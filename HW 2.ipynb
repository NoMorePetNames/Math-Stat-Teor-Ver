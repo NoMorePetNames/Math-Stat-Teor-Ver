{
 "cells": [
  {
   "cell_type": "code",
   "execution_count": 71,
   "metadata": {},
   "outputs": [],
   "source": [
    "from math import factorial, e\n",
    "\n",
    "def combinations(n, k):\n",
    "    return factorial(n) / (factorial(k) * factorial (n - k))"
   ]
  },
  {
   "cell_type": "markdown",
   "metadata": {},
   "source": [
    "1. Вероятность того, что стрелок попадет в мишень, выстрелив один раз, равна 0.8. Стрелок выстрелил 100 раз. Найдите вероятность того, что стрелок попадет в цель ровно 85 раз."
   ]
  },
  {
   "cell_type": "markdown",
   "metadata": {},
   "source": [
    "Для определения вероятности воспользуемся формулой Бернулли:\n",
    "\n",
    "$$P_n(X=k) = C_n^k p^k q^{n-k} = , где$$\n",
    "\n",
    "$n = 100$ - число независимых испытаний,  \n",
    "$k = 85$ - число необходимых благоприятных исходов,  \n",
    "$p = 0.8$ - вероятность наступления благоприятного исхода в каждом независимом испытании  \n",
    "$q = 1-p = 1 - 0.8 = 0.2$ - вероятность наступления неблагоприятного исхода в каждом независимом испытании\n",
    "\n",
    "$$ C_{100}^{85}p^{85}q^{100-85} = \\frac{100!}{85!(100-85)!} \\cdot 0.8^{85} \\cdot 0.2^{15} = 0.0481 = 4.81\\%$$"
   ]
  },
  {
   "cell_type": "code",
   "execution_count": 91,
   "metadata": {},
   "outputs": [
    {
     "data": {
      "text/plain": [
       "0.048061793700746556"
      ]
     },
     "execution_count": 91,
     "metadata": {},
     "output_type": "execute_result"
    }
   ],
   "source": [
    "combinations(100, 85) * (0.8 ** 85) * (0.2 ** 15)"
   ]
  },
  {
   "cell_type": "markdown",
   "metadata": {},
   "source": [
    "### 2.   \n",
    "Вероятность того, что лампочка перегорит в течение первого дня эксплуатации, равна 0.0004. В жилом комплексе после ремонта в один день включили 5000 новых лампочек. Какова вероятность, что ни одна из них не перегорит в первый день? Какова вероятность, что перегорят ровно две?"
   ]
  },
  {
   "cell_type": "markdown",
   "metadata": {},
   "source": [
    "### 2.1"
   ]
  },
  {
   "cell_type": "markdown",
   "metadata": {},
   "source": [
    "Для определения вероятности того, что в первый день не перегорит не одна лампочка применим формулу Пуассона:  \n",
    "\n",
    "\n",
    "$$P_m \\approx \\frac{\\lambda^m}{m!}e^{-\\lambda}, где$$  \n",
    "\n",
    "$λ = np$  \n",
    "$p = (1 - q) = (1 - 0.0004) = 0.9996$ - вероятность того, что лампочка не перегорит в первый день, тогда  \n",
    "$λ = np = 5000 \\cdot 0.9996 = 4998$, тогда"
   ]
  },
  {
   "cell_type": "markdown",
   "metadata": {},
   "source": [
    "$$P_m \\approx \\frac{\\lambda^m}{m!}e^{-\\lambda} \\approx \\frac{4998^{5000}}{5000!}e^{-4998} \\approx $$"
   ]
  },
  {
   "cell_type": "code",
   "execution_count": 29,
   "metadata": {},
   "outputs": [
    {
     "ename": "OverflowError",
     "evalue": "integer division result too large for a float",
     "output_type": "error",
     "traceback": [
      "\u001b[1;31m---------------------------------------------------------------------------\u001b[0m",
      "\u001b[1;31mOverflowError\u001b[0m                             Traceback (most recent call last)",
      "\u001b[1;32m<ipython-input-29-6ffb5f22ea82>\u001b[0m in \u001b[0;36m<module>\u001b[1;34m\u001b[0m\n\u001b[1;32m----> 1\u001b[1;33m \u001b[0mp\u001b[0m \u001b[1;33m=\u001b[0m \u001b[1;33m(\u001b[0m\u001b[1;33m(\u001b[0m\u001b[1;36m4998\u001b[0m\u001b[1;33m**\u001b[0m\u001b[1;33m(\u001b[0m\u001b[1;36m5000\u001b[0m\u001b[1;33m)\u001b[0m\u001b[1;33m)\u001b[0m\u001b[1;33m/\u001b[0m\u001b[0mfactorial\u001b[0m\u001b[1;33m(\u001b[0m\u001b[1;36m5000\u001b[0m\u001b[1;33m)\u001b[0m\u001b[1;33m)\u001b[0m\u001b[1;33m\u001b[0m\u001b[1;33m\u001b[0m\u001b[0m\n\u001b[0m",
      "\u001b[1;31mOverflowError\u001b[0m: integer division result too large for a float"
     ]
    }
   ],
   "source": [
    "p = ((4998**(5000))/factorial(5000)) * e ** (-4998)"
   ]
  },
  {
   "cell_type": "markdown",
   "metadata": {},
   "source": [
    "Ввиду того, что предварительные вычисления имеют слишком большой порядок,  \n",
    "вычислим вероятность иначе,\n",
    "найдем вероятность того, что хотя бы одна лампочка перегорит, тогда:  \n",
    "$λ = np = 0.0004 \\cdot 5000 = 2 $  \n",
    "$m = 1$,  \n",
    "$$P_m \\approx \\frac{\\lambda^m}{m!}e^{-\\lambda} \\approx \\frac{2^{1}}{1!}e^{-2} \\approx 0.27$$ "
   ]
  },
  {
   "cell_type": "code",
   "execution_count": 59,
   "metadata": {},
   "outputs": [
    {
     "name": "stdout",
     "output_type": "stream",
     "text": [
      "p = 0.27\n"
     ]
    }
   ],
   "source": [
    "p = ((2**(1))/factorial(1)) * e ** (-2)\n",
    "print('p = {:.2f}'.format(p))"
   ]
  },
  {
   "cell_type": "markdown",
   "metadata": {},
   "source": [
    "Тогда вероятность того, что не одна из лампочек не перегорит составит:\n",
    "$1-p \\approx 1 - 0.27 \\approx 0.73$\n",
    "#### На самом деле этот ответ не кажется мне верным, вероятность p здесь - вероятность, что перегорит только одна лампа,\n",
    "#### поэтому вероятность, что не перегорит вообще не одна следует считать так: P = 1 - p1 - p2 ... - p4999 - p5000\n",
    "#### где p1, p2 ... p5000 - это вероятности, что будут перегорать ровно 1, 2 или 5000 лампочек, но тогда вычислений выходит еще больше\n",
    "#### я оставил этот ответ в предположении что порядок каждого нового значения Pn будет меньше и поэтому\n",
    "#### значение вероятности можно приближенно оценить по первому, самому большому значению"
   ]
  },
  {
   "cell_type": "markdown",
   "metadata": {},
   "source": [
    "### 2.2"
   ]
  },
  {
   "cell_type": "markdown",
   "metadata": {},
   "source": [
    "Вероятность того, что перегорит ровно 2 лампочки:\n",
    "$λ = np = 0.0004 \\cdot 5000 = 2$\n",
    "$m = 2$,\n",
    "$$P_m \\approx \\frac{\\lambda^m}{m!}e^{-\\lambda} \\approx \\frac{2^{2}}{2!}e^{-2} \\approx  0.27 $$\n",
    "\n"
   ]
  },
  {
   "cell_type": "code",
   "execution_count": 64,
   "metadata": {},
   "outputs": [
    {
     "name": "stdout",
     "output_type": "stream",
     "text": [
      "p = 0.27\n"
     ]
    }
   ],
   "source": [
    "p = ((2**(2))/factorial(2)) * e ** (-2)\n",
    "print('p = {:.2f}'.format(p))"
   ]
  },
  {
   "cell_type": "markdown",
   "metadata": {},
   "source": [
    "#### Вероятность получилась такой же как и в первой части задачи,\n",
    "#### Скорее всего первая часть задачи решена нeверно"
   ]
  },
  {
   "cell_type": "markdown",
   "metadata": {},
   "source": [
    "### 3.  \n",
    "Монету подбросили 144 раза. Какова вероятность, что орел выпадет ровно 70 раз?"
   ]
  },
  {
   "cell_type": "markdown",
   "metadata": {},
   "source": [
    "Определим вероятность по формуле Бернулли:  \n",
    "$$P_n(X=k) = C_n^k p^k q^{n-k}, где$$\n",
    "$n = 144$ - число независимых испытаний,  \n",
    "$k = 70$ - число необходимых благоприятных исходов,  \n",
    "$p = q = 0,5$ - вероятности наступления исходов в каждом независимом испытании"
   ]
  },
  {
   "cell_type": "markdown",
   "metadata": {},
   "source": [
    "$$P(k=70) = C_n^k p^k q^{n-k} = C_{144}^{70}p^{70}q^{144-70}  = $$"
   ]
  },
  {
   "cell_type": "markdown",
   "metadata": {},
   "source": [
    "$$ = \\frac{144!}{70!(144-70)!} \\cdot 0.5^{70} \\cdot 0.5^{74} = 0.0628 = 6.28\\%$$"
   ]
  },
  {
   "cell_type": "code",
   "execution_count": 96,
   "metadata": {},
   "outputs": [
    {
     "name": "stdout",
     "output_type": "stream",
     "text": [
      "p = 0.0628\n"
     ]
    }
   ],
   "source": [
    "p = combinations(144, 70)*(0.5**144)\n",
    "print('p = {:.4f}'.format(p))"
   ]
  },
  {
   "cell_type": "markdown",
   "metadata": {},
   "source": [
    "### 4."
   ]
  },
  {
   "cell_type": "markdown",
   "metadata": {},
   "source": [
    "В первом ящике находится 10 мячей, из которых 7 - белые. Во втором ящике - 11 мячей, из которых 9 белых. Из каждого ящика вытаскивают случайным образом по два мяча. Какова вероятность того, что все мячи белые? Какова вероятность того, что ровно два мяча белые? Какова вероятность того, что хотя бы один мяч белый?"
   ]
  },
  {
   "cell_type": "markdown",
   "metadata": {},
   "source": [
    "#### 4.1\n",
    "Определим вероятность, что из каждого ящика будут вытащены по 2 белых мяча"
   ]
  },
  {
   "cell_type": "markdown",
   "metadata": {},
   "source": [
    "Вероятность того, что из первого ящика вытащат 2 белых мяча из двух:  \n",
    "m = 7, n = 10\n",
    "Все возможные сочетания по 2 для белых мячей из первого ящика:\n",
    "$$P_1 = \\frac{C_7^2}{C_{10}^2} = 0.467$$  \n",
    "Для второго ящика, при m = 9, n = 11:  \n",
    "$$P_2 = \\frac{C_9^2}{C_{11}^2} = 0.655$$  "
   ]
  },
  {
   "cell_type": "code",
   "execution_count": 97,
   "metadata": {},
   "outputs": [
    {
     "name": "stdout",
     "output_type": "stream",
     "text": [
      "p1 = 0.4667\n",
      "p2 = 0.6545\n",
      "p = 0.3055\n"
     ]
    }
   ],
   "source": [
    "p1 = combinations(7, 2)/combinations(10,2)\n",
    "p2 = combinations(9, 2)/combinations(11,2)\n",
    "p = p1*p2\n",
    "print('p1 = {:.4f}'.format(p1))\n",
    "print('p2 = {:.4f}'.format(p2))\n",
    "print('p = {:.4f}'.format(p))"
   ]
  },
  {
   "cell_type": "markdown",
   "metadata": {},
   "source": [
    "Тогда вероятность, что из каждого ящика будет вытащено по 2 белых мяча:\n",
    "$$P = P_1 \\cdot P_2 = 0.31 $$"
   ]
  },
  {
   "cell_type": "markdown",
   "metadata": {},
   "source": [
    "#### 4.2.\n",
    "#### Вероятность, что ровно два мяча - белые:  \n",
    "Определим вероятность того, что из каждого ящика вытащат по одному белому и одному не белому мячу:  \n",
    "Вероятность, что из первого ящика будет вытащен 1 белый 1 не белый мяч:\n",
    "$P_{11} = \\frac 9 {11} \\cdot \\frac 2 {10}  = 0.164 $  \n",
    "Для второго ящика\n",
    "$P_{21} =\\frac 7 {10} \\cdot \\frac 3 {9}  = 0.233 $  \n",
    "Тогда вероятность, что из каждого ящика будет вытащено по 1 белому и 1 не белому мяча:  \n",
    "$P_3 = P_{11} \\cdot P_{21} = 0.164 \\cdot 0.233 = 0.038 $"
   ]
  },
  {
   "cell_type": "markdown",
   "metadata": {},
   "source": [
    "Определим теперь вероятность того что из ящика достанут 2 не белых мяча  \n",
    "для первого ящика:  \n",
    "$$P_{1n} = \\frac{C_3^2}{C_{10}^2} = 0.067 $$  \n",
    "для второго ящика:  \n",
    "$$P_{2n} = \\frac{C_2^2}{C_{11}^2} = 0.018 $$"
   ]
  },
  {
   "cell_type": "code",
   "execution_count": 105,
   "metadata": {},
   "outputs": [
    {
     "data": {
      "text/plain": [
       "0.06666666666666667"
      ]
     },
     "execution_count": 105,
     "metadata": {},
     "output_type": "execute_result"
    }
   ],
   "source": [
    "combinations(3, 2)/combinations(10, 2)"
   ]
  },
  {
   "cell_type": "code",
   "execution_count": 106,
   "metadata": {},
   "outputs": [
    {
     "data": {
      "text/plain": [
       "0.01818181818181818"
      ]
     },
     "execution_count": 106,
     "metadata": {},
     "output_type": "execute_result"
    }
   ],
   "source": [
    "combinations(2, 2)/combinations(11, 2)"
   ]
  },
  {
   "cell_type": "markdown",
   "metadata": {},
   "source": [
    "Тогда результатом будет сумма вероятностей:   \n",
    "- того что оба белых шара будут из первого ящика, а во втором оба окажутся не белые:   \n",
    "$$P_1 = P_1 \\cdot P_{2n} = 0.467 \\cdot 0.018 = 0.084 $$\n",
    "- того что оба белых шара будут из второго ящика, а в первом оба окажутся не белые:\n",
    "$$P_2 = P_2 \\cdot P_{1n} = 0.655 \\cdot 0.067 = 0.044 $$  \n",
    "- и того, что из каждого ящика достанут по одному белому и одному не белому мячу:\n",
    "$$P_3 = 0.038$$\n",
    "$$P = P_1 + P_2 + P_3 = 0.084 + 0.044 + 0.038 = 0.166 $$"
   ]
  },
  {
   "cell_type": "markdown",
   "metadata": {},
   "source": [
    "### 4.3"
   ]
  },
  {
   "cell_type": "markdown",
   "metadata": {},
   "source": [
    "#### Вероятность того, что хотя бы один из мячей белый:"
   ]
  },
  {
   "cell_type": "markdown",
   "metadata": {},
   "source": [
    "Выше мы определили вероятности для случаев, когда из обоих ящиков вытащат все не белые мячи:  \n",
    "для первого ящика:  \n",
    "$P_{1n} = 0.067 $  \n",
    "для второго ящика:  \n",
    "$P_{2n} = 0.018 $\n",
    "тогда вероятность, что все четыре мяча окажутся не белыми:\n",
    "$$P = P_{1n} \\cdot P_{2n} = 0.067 \\cdot 0.018 = 0.0121$$\n",
    "а вероятность, что хотя бы один из них будет белым:\n",
    "$$Q = 1 - P = 1 - 0.0121 = 0.987 $$"
   ]
  }
 ],
 "metadata": {
  "kernelspec": {
   "display_name": "Python 3",
   "language": "python",
   "name": "python3"
  },
  "language_info": {
   "codemirror_mode": {
    "name": "ipython",
    "version": 3
   },
   "file_extension": ".py",
   "mimetype": "text/x-python",
   "name": "python",
   "nbconvert_exporter": "python",
   "pygments_lexer": "ipython3",
   "version": "3.7.4"
  }
 },
 "nbformat": 4,
 "nbformat_minor": 2
}
