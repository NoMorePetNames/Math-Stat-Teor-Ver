{
 "cells": [
  {
   "cell_type": "markdown",
   "metadata": {},
   "source": [
    "#### 1. \n",
    "Известно, что генеральная совокупность распределена нормально со средним квадратическим отклонением, равным 16.   \n",
    "Найти доверительный интервал для оценки математического ожидания a с надежностью 0.95,  \n",
    "если выборочная средняя M = 80, а объем выборки n = 256.  "
   ]
  },
  {
   "cell_type": "markdown",
   "metadata": {},
   "source": [
    "Из условий задачи:\n",
    "\n",
    "$ \\alpha = 0.95$  \n",
    "$ \\sigma = 16$  \n",
    "$ \\overline{x} = 80$  \n",
    "$ n = 256$\n",
    "\n",
    "Тогда доверительный интервал будет равен:\n",
    "\n",
    "$$ \\overline{x} - z_{\\alpha/2}\\frac{\\sigma}{\\sqrt{n}} \\leq M(x) \\leq \\overline{x} + z_{\\alpha/2}\\frac{\\sigma}{\\sqrt{n}} $$"
   ]
  },
  {
   "cell_type": "markdown",
   "metadata": {},
   "source": [
    "По таблице значений функции Лапласа для $\\alpha/2 = 0.475$ находим: $z_{\\alpha/2} = 1.96$"
   ]
  },
  {
   "cell_type": "code",
   "execution_count": 93,
   "metadata": {},
   "outputs": [
    {
     "name": "stdout",
     "output_type": "stream",
     "text": [
      "1.959963984540054\n"
     ]
    }
   ],
   "source": [
    "#Проверим это значение с помощью функции из библиотеки scipy\n",
    "#Для стандартного нормального распределения нам необходимо найти величину х такую,\n",
    "#Что справа от этой точки останется 2.5% всего накопленного нормального распределения, а слева 97.5%\n",
    "alfa = 0.95\n",
    "half_alfa = 0.95/2\n",
    "print(norm.ppf(0.5+half_alfa))"
   ]
  },
  {
   "cell_type": "markdown",
   "metadata": {},
   "source": [
    "Тогда доверительный интервал составит:\n",
    "\n",
    "$$ 80 - 1.96\\frac{16}{\\sqrt{256}} \\leq M(x) \\leq 80 + 1.96\\frac{16}{\\sqrt{256}} $$\n",
    "$$ 80 - 1.96\\frac{16}{16} \\leq M(x) \\leq 80 + 1.96\\frac{16}{16} $$  \n",
    "\n",
    "$$ 80 - 1.96 \\leq M(x) \\leq 80 + 1.96 $$  \n",
    "\n",
    "$$ 78.04 \\leq M(x) \\leq 81.96 $$"
   ]
  },
  {
   "cell_type": "markdown",
   "metadata": {},
   "source": [
    "#### 2. \n",
    "В результате 10 независимых измерений некоторой величины X, выполненных с одинаковой точностью, получены опытные данные:  \n",
    "6.9, 6.1, 6.2, 6.8, 7.5, 6.3, 6.4, 6.9, 6.7, 6.1  \n",
    "Предполагая, что результаты измерений подчинены нормальному закону распределения вероятностей,  \n",
    "оценить истинное значение величины X при помощи доверительного интервала,  \n",
    "покрывающего это значение с доверительной вероятностью 0,95."
   ]
  },
  {
   "cell_type": "code",
   "execution_count": 92,
   "metadata": {},
   "outputs": [
    {
     "name": "stdout",
     "output_type": "stream",
     "text": [
      "M(x)= 6.59\n",
      "std= 0.45\n"
     ]
    }
   ],
   "source": [
    "X = 6.9, 6.1, 6.2, 6.8, 7.5, 6.3, 6.4, 6.9, 6.7, 6.1\n",
    "df = pd.DataFrame(X)\n",
    "x = df.mean()\n",
    "#df.mean() == sum(X)/len(X) #Проверяем корректность среднего значения\n",
    "\n",
    "std = np.std(X, ddof=1)\n",
    "#std_2 =(((df - x)**2).sum()/(len(df) - 1))**0.5\n",
    "#round(float(std), 2) == round(float(std_2), 2) #Проверяем корректность значения стандартного отклонения\n",
    "\n",
    "print('M(x)=',round(float(x), 2))\n",
    "print('std=',round(float(std), 2))"
   ]
  },
  {
   "cell_type": "markdown",
   "metadata": {},
   "source": [
    "Т.к. нам не известно среднее квадратичное отклонение для генеральной совокупности,  \n",
    "применяем t-критерий Стьюдента, для n-1 = 9 и a/2 = 0.025 t = 2.262, тогда:\n",
    "\n",
    "$$ \\overline{x} - t_{\\alpha/2}\\frac{\\sigma}{\\sqrt{n}} \\leq M(x) \\leq \\overline{x} + t_{\\alpha/2}\\frac{\\sigma}{\\sqrt{n}} $$\n",
    "\n",
    "$$6.59 - 2.262\\frac{0.45}{\\sqrt{10}} \\leq M(x) \\leq 6.59 + 2.262\\frac{0.45}{\\sqrt{10}}$$\n",
    "\n",
    "$$6.59 - 0.32 \\leq M(x) \\leq 6.59 + 0.32$$\n",
    "\n",
    "$$6.27 \\leq M(x) \\leq 6.91$$"
   ]
  },
  {
   "cell_type": "markdown",
   "metadata": {},
   "source": [
    "#### 3. \n",
    "Утверждается, что шарики для подшипников, изготовленные автоматическим станком, имеют средний диаметр 17 мм.  \n",
    "Используя односторонний критерий с α=0,05, проверить эту гипотезу,  \n",
    "если в выборке из n=100 шариков средний диаметр оказался равным 17.5 мм, а дисперсия известна и равна 4 кв.мм.\n",
    "\n",
    "$ \\alpha = 0.05$  \n",
    "$ D(x) = \\sigma^2 = 4$\n",
    "$ \\sigma = 2$\n",
    "$ \\mu_0 = \\overline{x} = 17.0$  \n",
    "$ \\mu= 17.5$  \n",
    "$ n = 100$\n",
    "\n",
    "Нулевая гипотеза $H_0$: $\\mu = \\mu_0 = 17.0$  \n",
    "Альтернативная гипотеза $H$: $\\mu_0 < \\mu = 17.5$\n",
    "\n",
    "Т.к. нам известна дисперсия и следовательно стандартное отклонение, то гипотезу следует проверить с помощью Z-критерия  \n",
    "Вычислим наблюдаемое значение критерия:\n",
    "\n",
    "$$\\frac{\\overline{x} - \\mu_0}{\\frac{\\sigma}{\\sqrt{n}}} = \\frac{\\overline{x} - \\mu_0}{{\\sigma}}{\\sqrt{n}} = \\frac{17.5 - 17}{2}{\\sqrt{100}} = 2.5$$\n"
   ]
  },
  {
   "cell_type": "code",
   "execution_count": 109,
   "metadata": {},
   "outputs": [
    {
     "data": {
      "text/plain": [
       "1.6448536269514722"
      ]
     },
     "execution_count": 109,
     "metadata": {},
     "output_type": "execute_result"
    }
   ],
   "source": [
    "#Оприеделим значение Z для одностороннего критерия 0.05\n",
    "norm.ppf(0.95)"
   ]
  },
  {
   "cell_type": "markdown",
   "metadata": {},
   "source": [
    "Т.к. значение наблюдаемого критерия больше, чем значение для одностороннего критерия $ \\alpha = 0.05$:\n",
    "\n",
    "$$2.5 > 1.645$$\n",
    "\n",
    "####  Гипотеза $H_0$ не может быть принята"
   ]
  },
  {
   "cell_type": "code",
   "execution_count": 153,
   "metadata": {},
   "outputs": [
    {
     "data": {
      "image/png": "[encoded data removed]",
      "text/plain": [
       "<Figure size 432x288 with 1 Axes>"
      ]
     },
     "metadata": {
      "needs_background": "light"
     },
     "output_type": "display_data"
    }
   ],
   "source": [
    "#код для построения графиков находится в конце блокнота\n",
    "plot_task_3(0, 1, 1.645, 4)"
   ]
  },
  {
   "cell_type": "code",
   "execution_count": 100,
   "metadata": {},
   "outputs": [],
   "source": [
    "#Добавить график"
   ]
  },
  {
   "cell_type": "markdown",
   "metadata": {},
   "source": [
    "#### 4. \n",
    "Продавец утверждает, что средний вес пачки печенья составляет 200 г.  \n",
    "Из партии извлечена выборка из 10 пачек.  \n",
    "Вес каждой пачки составляет: 202, 203, 199, 197, 195, 201, 200, 204, 194, 190.  \n",
    "Известно, что их веса распределены нормально.  \n",
    "Верно ли утверждение продавца, если учитывать, что доверительная вероятность равна 99%?"
   ]
  },
  {
   "cell_type": "code",
   "execution_count": 116,
   "metadata": {},
   "outputs": [
    {
     "name": "stdout",
     "output_type": "stream",
     "text": [
      "M(x)= 198.5\n",
      "std= 4.45\n",
      "n= 10\n"
     ]
    }
   ],
   "source": [
    "#Вычислим значения для выборки\n",
    "X = 202, 203, 199, 197, 195, 201, 200, 204, 194, 190\n",
    "df = pd.DataFrame(X)\n",
    "x = df.mean()\n",
    "#df.mean() == sum(X)/len(X) #Проверяем корректность среднего значения\n",
    "\n",
    "#std = np.std(X, ddof=1)\n",
    "#std_2 =(((df - x)**2).sum()/(len(df) - 1))**0.5\n",
    "round(float(std), 2) == round(float(std_2), 2) #Проверяем корректность значения стандартного отклонения\n",
    "\n",
    "print('M(x)=',round(float(x), 2))\n",
    "print('std=',round(float(std), 2))\n",
    "print('n=',len(df))"
   ]
  },
  {
   "cell_type": "markdown",
   "metadata": {},
   "source": [
    "Нулевая гипотеза $H_0$: $\\mu = \\mu_0 = 200$  \n",
    "Альтернативная гипотеза $H$: $\\mu_0 \\neq \\mu$"
   ]
  },
  {
   "cell_type": "markdown",
   "metadata": {},
   "source": [
    "Т.к. нам не известно среднее квадратичное отклонение для генеральной совокупности,  \n",
    "применяем t-критерий Стьюдента, для n-1 = 9 и a/2 = 0.005 t = 3.25"
   ]
  },
  {
   "cell_type": "markdown",
   "metadata": {},
   "source": [
    "Вычислим наблюдаемое значение критерия\n",
    "$$\\frac{\\overline{x} - \\mu_0}{\\frac{\\sigma}{\\sqrt{n}}} = \\frac{\\overline{x} - \\mu_0}{{\\sigma}}{\\sqrt{n}} = \\frac{198.5 - 200.0}{4.45}{\\sqrt{10}} = -\\frac{1.5}{4.45}{3.162} = 1.065$$"
   ]
  },
  {
   "cell_type": "markdown",
   "metadata": {},
   "source": [
    "Т.к. значение наблюдаемого критерия больше, чем значение для двустороннего критерия $ \\alpha = 0.01$:\n",
    "\n",
    "$$1.065 < 3.25$$\n",
    "\n",
    "#### Гипотеза  $H_0$ верна"
   ]
  },
  {
   "cell_type": "code",
   "execution_count": 160,
   "metadata": {},
   "outputs": [
    {
     "data": {
      "image/png": "[encoded data removed]",
      "text/plain": [
       "<Figure size 432x288 with 1 Axes>"
      ]
     },
     "metadata": {
      "needs_background": "light"
     },
     "output_type": "display_data"
    }
   ],
   "source": [
    "plot_task_4(0, 1, 3.25, 4)"
   ]
  },
  {
   "cell_type": "code",
   "execution_count": 44,
   "metadata": {},
   "outputs": [],
   "source": [
    "#Код ниже - для построения графиков\n",
    "import random\n",
    "import math\n",
    "import numpy as np\n",
    "import pandas as pd\n",
    "from scipy.stats import norm\n",
    "import matplotlib.pyplot as plt"
   ]
  },
  {
   "cell_type": "code",
   "execution_count": 2,
   "metadata": {},
   "outputs": [],
   "source": [
    "def normal_distribution(x, mu, sigma):\n",
    "    return 1/(sigma * np.sqrt(2 * np.pi)) * np.exp( - (x - mu)**2 / (2 * sigma**2))"
   ]
  },
  {
   "cell_type": "code",
   "execution_count": 157,
   "metadata": {},
   "outputs": [],
   "source": [
    "def plot_task_3(mu, sigma, a=None, b=None, a2=None, b2=None):\n",
    "    \"\"\"Строит нормальное распределение,\n",
    "    если необходимо то закрашивает участок под кривой [a, b]\n",
    "    mu - математическое ожидание\n",
    "    sigma - среднеквадратичное отклонение\n",
    "    [a, b] - участок под кривой, площадь которого необходимо найти\"\"\"\n",
    "    \n",
    "    #координаты точек для построения кривой нормального распределения\n",
    "    x = [i/1000 for i in range(int((mu - 4*sigma)*1000), int((mu + 4*sigma)*1000))]\n",
    "    y = [normal_distribution(j, mu, sigma) for j in x]\n",
    "    \n",
    "    #координаты точек для прямой x = my\n",
    "    x_mu = [mu]*2\n",
    "    y_mu = min(y), max(y)\n",
    "    \n",
    "    #координаты для линий, которые ограничивают площадь под кривой [a, b]\n",
    "    if a and b:\n",
    "        x_ab = [i/1000 for i in range(int(a*1000), int((b+1)*1000))]\n",
    "        y_ab = [normal_distribution(j, mu, sigma) for j in x_ab]\n",
    "        #Дублируем крайние координаты по оси х, чтобы ограничить штрихуемую площадь вертикальными прямыми\n",
    "        x_ab = x_ab[:1] + x_ab + x_ab[-1:]\n",
    "        y_ab = [min(y),] + y_ab + [min(y),]\n",
    "        \n",
    "        #Координаты вертикальных прямых x=a и x=b\n",
    "        x_a = [a]*2\n",
    "        y_a = [min(y), normal_distribution(a, mu, sigma)]\n",
    "        \n",
    "        x_b = [b]*2\n",
    "        y_b = [min(y), normal_distribution(b, mu, sigma)]\n",
    "        \n",
    "        x_z = [2.5]*2\n",
    "        y_z = [min(y), normal_distribution(a, mu, sigma)]\n",
    "        \n",
    "    plt.figure(figsize =(6, 4))\n",
    "    plt.plot(x, y, color = 'black')\n",
    "    plt.plot(x_z, y_z, color = 'red', linestyle = 'dashed', label='Наблюдаемое значение', marker='v')\n",
    "    plt.plot(x_mu, y_mu, color='black', linestyle = 'dashdot')\n",
    "    #plt.title('Распределение роста взрослого населения города Х')\n",
    "    #plt.xlabel('Рост')\n",
    "    #plt.ylabel('Плотность вероятности')\n",
    "    plt.xlim(-0.5, 4)\n",
    "    plt.grid()\n",
    "    if a and b:\n",
    "        plt.fill(x_ab, y_ab, 'lightgray')\n",
    "        plt.plot(x_a, y_a, color='black', linestyle = 'dashed', label='Значение для а=0,95', marker='v')\n",
    "        plt.plot(x_b, y_b, color='black', linestyle = 'dashed')\n",
    "    plt.legend()\n",
    "    plt.show()"
   ]
  },
  {
   "cell_type": "code",
   "execution_count": 161,
   "metadata": {},
   "outputs": [],
   "source": [
    "def plot_task_4(mu, sigma, a=None, b=None, a2=None, b2=None):\n",
    "    \"\"\"Строит нормальное распределение,\n",
    "    если необходимо то закрашивает участок под кривой [a, b]\n",
    "    mu - математическое ожидание\n",
    "    sigma - среднеквадратичное отклонение\n",
    "    [a, b] - участок под кривой, площадь которого необходимо найти\"\"\"\n",
    "    \n",
    "    #координаты точек для построения кривой нормального распределения\n",
    "    x = [i/1000 for i in range(int((mu - 4*sigma)*1000), int((mu + 4*sigma)*1000))]\n",
    "    y = [normal_distribution(j, mu, sigma) for j in x]\n",
    "    \n",
    "    #координаты точек для прямой x = my\n",
    "    x_mu = [mu]*2\n",
    "    y_mu = min(y), max(y)\n",
    "    \n",
    "    #координаты для линий, которые ограничивают площадь под кривой [a, b]\n",
    "    if a and b:\n",
    "        x_ab = [i/1000 for i in range(int(a*1000), int((b+1)*1000))]\n",
    "        y_ab = [normal_distribution(j, mu, sigma) for j in x_ab]\n",
    "        #Дублируем крайние координаты по оси х, чтобы ограничить штрихуемую площадь вертикальными прямыми\n",
    "        x_ab = x_ab[:1] + x_ab + x_ab[-1:]\n",
    "        y_ab = [min(y),] + y_ab + [min(y),]\n",
    "        \n",
    "        #Координаты вертикальных прямых x=a и x=b\n",
    "        x_a = [a]*2\n",
    "        y_a = [min(y), normal_distribution(a, mu, sigma)]\n",
    "        \n",
    "        x_b = [b]*2\n",
    "        y_b = [min(y), normal_distribution(b, mu, sigma)]\n",
    "        \n",
    "        x_z = [1.065]*2\n",
    "        y_z = [min(y), (min(y)+max(y))/2]\n",
    "        \n",
    "    plt.figure(figsize =(6, 4))\n",
    "    plt.plot(x, y, color = 'black')\n",
    "    plt.plot(x_z, y_z, color = 'red', linestyle = 'dashed', label='Наблюдаемое значение', marker='v')\n",
    "    plt.plot(x_mu, y_mu, color='black', linestyle = 'dashdot')\n",
    "    #plt.title('Распределение роста взрослого населения города Х')\n",
    "    #plt.xlabel('Рост')\n",
    "    #plt.ylabel('Плотность вероятности')\n",
    "    plt.xlim(-0.5, 4)\n",
    "    plt.grid()\n",
    "    if a and b:\n",
    "        plt.fill(x_ab, y_ab, 'lightgray')\n",
    "        plt.plot(x_a, y_a, color='black', linestyle = 'dashed', label='Значение для а=0,99', marker='v')\n",
    "        plt.plot(x_b, y_b, color='black', linestyle = 'dashed')\n",
    "    plt.legend()\n",
    "    plt.show()"
   ]
  },
  {
   "cell_type": "code",
   "execution_count": null,
   "metadata": {},
   "outputs": [],
   "source": []
  }
 ],
 "metadata": {
  "kernelspec": {
   "display_name": "Python 3",
   "language": "python",
   "name": "python3"
  },
  "language_info": {
   "codemirror_mode": {
    "name": "ipython",
    "version": 3
   },
   "file_extension": ".py",
   "mimetype": "text/x-python",
   "name": "python",
   "nbconvert_exporter": "python",
   "pygments_lexer": "ipython3",
   "version": "3.7.4"
  }
 },
 "nbformat": 4,
 "nbformat_minor": 2
}
