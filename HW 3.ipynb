{
 "cells": [
  {
   "cell_type": "code",
   "execution_count": 53,
   "metadata": {},
   "outputs": [],
   "source": [
    "import numpy as np\n",
    "import pandas as pd\n",
    "import matplotlib.pyplot as plt\n",
    "from math import factorial"
   ]
  },
  {
   "cell_type": "markdown",
   "metadata": {},
   "source": [
    "### 1.   \n",
    "Даны значения зарплат из выборки выпускников:  \n",
    "100, 80, 75, 77, 89, 33, 45, 25, 65, 17, 30, 24, 57, 55, 70, 75, 65, 84, 90, 150. \n",
    "Посчитать (желательно без использования статистических методов наподобие std, var, mean) \n",
    "- среднее арифметическое, \n",
    "- среднее квадратичное отклонение, \n",
    "- смещенную и несмещенную оценки дисперсий для данной выборки."
   ]
  },
  {
   "cell_type": "code",
   "execution_count": 11,
   "metadata": {},
   "outputs": [
    {
     "data": {
      "text/html": [
       "<div>\n",
       "<style scoped>\n",
       "    .dataframe tbody tr th:only-of-type {\n",
       "        vertical-align: middle;\n",
       "    }\n",
       "\n",
       "    .dataframe tbody tr th {\n",
       "        vertical-align: top;\n",
       "    }\n",
       "\n",
       "    .dataframe thead th {\n",
       "        text-align: right;\n",
       "    }\n",
       "</style>\n",
       "<table border=\"1\" class=\"dataframe\">\n",
       "  <thead>\n",
       "    <tr style=\"text-align: right;\">\n",
       "      <th></th>\n",
       "      <th>salary</th>\n",
       "    </tr>\n",
       "  </thead>\n",
       "  <tbody>\n",
       "    <tr>\n",
       "      <td>0</td>\n",
       "      <td>100</td>\n",
       "    </tr>\n",
       "    <tr>\n",
       "      <td>1</td>\n",
       "      <td>80</td>\n",
       "    </tr>\n",
       "    <tr>\n",
       "      <td>2</td>\n",
       "      <td>75</td>\n",
       "    </tr>\n",
       "    <tr>\n",
       "      <td>3</td>\n",
       "      <td>77</td>\n",
       "    </tr>\n",
       "    <tr>\n",
       "      <td>4</td>\n",
       "      <td>89</td>\n",
       "    </tr>\n",
       "    <tr>\n",
       "      <td>5</td>\n",
       "      <td>33</td>\n",
       "    </tr>\n",
       "    <tr>\n",
       "      <td>6</td>\n",
       "      <td>45</td>\n",
       "    </tr>\n",
       "    <tr>\n",
       "      <td>7</td>\n",
       "      <td>25</td>\n",
       "    </tr>\n",
       "    <tr>\n",
       "      <td>8</td>\n",
       "      <td>65</td>\n",
       "    </tr>\n",
       "    <tr>\n",
       "      <td>9</td>\n",
       "      <td>17</td>\n",
       "    </tr>\n",
       "    <tr>\n",
       "      <td>10</td>\n",
       "      <td>30</td>\n",
       "    </tr>\n",
       "    <tr>\n",
       "      <td>11</td>\n",
       "      <td>24</td>\n",
       "    </tr>\n",
       "    <tr>\n",
       "      <td>12</td>\n",
       "      <td>57</td>\n",
       "    </tr>\n",
       "    <tr>\n",
       "      <td>13</td>\n",
       "      <td>55</td>\n",
       "    </tr>\n",
       "    <tr>\n",
       "      <td>14</td>\n",
       "      <td>70</td>\n",
       "    </tr>\n",
       "    <tr>\n",
       "      <td>15</td>\n",
       "      <td>75</td>\n",
       "    </tr>\n",
       "    <tr>\n",
       "      <td>16</td>\n",
       "      <td>65</td>\n",
       "    </tr>\n",
       "    <tr>\n",
       "      <td>17</td>\n",
       "      <td>84</td>\n",
       "    </tr>\n",
       "    <tr>\n",
       "      <td>18</td>\n",
       "      <td>90</td>\n",
       "    </tr>\n",
       "    <tr>\n",
       "      <td>19</td>\n",
       "      <td>150</td>\n",
       "    </tr>\n",
       "  </tbody>\n",
       "</table>\n",
       "</div>"
      ],
      "text/plain": [
       "    salary\n",
       "0      100\n",
       "1       80\n",
       "2       75\n",
       "3       77\n",
       "4       89\n",
       "5       33\n",
       "6       45\n",
       "7       25\n",
       "8       65\n",
       "9       17\n",
       "10      30\n",
       "11      24\n",
       "12      57\n",
       "13      55\n",
       "14      70\n",
       "15      75\n",
       "16      65\n",
       "17      84\n",
       "18      90\n",
       "19     150"
      ]
     },
     "execution_count": 11,
     "metadata": {},
     "output_type": "execute_result"
    }
   ],
   "source": [
    "# Поместим данные о значениях зарплат в объект DataFrame\n",
    "data = 100, 80, 75, 77, 89, 33, 45, 25, 65, 17, 30, 24, 57, 55, 70, 75, 65, 84, 90, 150\n",
    "salary = pd.Series(data=data)\n",
    "df = pd.DataFrame(salary, columns=['salary'])\n",
    "df"
   ]
  },
  {
   "cell_type": "markdown",
   "metadata": {},
   "source": [
    "Определим среднее значение:  \n",
    "$$M(X) = \\frac{1}{n} \\sum\\limits_{i=1}^{n} x_i$$\n"
   ]
  },
  {
   "cell_type": "code",
   "execution_count": 31,
   "metadata": {},
   "outputs": [
    {
     "data": {
      "text/plain": [
       "True"
      ]
     },
     "execution_count": 31,
     "metadata": {},
     "output_type": "execute_result"
    }
   ],
   "source": [
    "mean_salary = df['salary'].sum()/len(df)\n",
    "mean_salary == df['salary'].mean()"
   ]
  },
  {
   "cell_type": "code",
   "execution_count": 52,
   "metadata": {},
   "outputs": [
    {
     "name": "stdout",
     "output_type": "stream",
     "text": [
      "Cреднее значение:  65.3\n"
     ]
    }
   ],
   "source": [
    "print('Cреднее значение: ', mean_salary)"
   ]
  },
  {
   "cell_type": "markdown",
   "metadata": {},
   "source": [
    "Определим среднее квадратичное отклонение:  \n",
    "$$\\sigma = \\sqrt{\\frac{\\sum\\limits_{i=1}^{n} (x_i - \\overline{x})^2}{n}}$$"
   ]
  },
  {
   "cell_type": "code",
   "execution_count": 48,
   "metadata": {},
   "outputs": [],
   "source": [
    "std_salary = (((df['salary'] - mean_salary)**2).sum()/len(df))**0.5"
   ]
  },
  {
   "cell_type": "code",
   "execution_count": 49,
   "metadata": {},
   "outputs": [
    {
     "data": {
      "text/plain": [
       "True"
      ]
     },
     "execution_count": 49,
     "metadata": {},
     "output_type": "execute_result"
    }
   ],
   "source": [
    "std_salary == df['salary'].std(ddof=0)"
   ]
  },
  {
   "cell_type": "code",
   "execution_count": 51,
   "metadata": {},
   "outputs": [
    {
     "name": "stdout",
     "output_type": "stream",
     "text": [
      "Cреднее квадратичное отклонение: 30.82\n"
     ]
    }
   ],
   "source": [
    "print('Cреднее квадратичное отклонение: {:.2f}'.format(std_salary))"
   ]
  },
  {
   "cell_type": "markdown",
   "metadata": {},
   "source": [
    "Определим теперь смещенную:  \n",
    "$$\\sigma^2 = \\frac{\\sum\\limits_{i=1}^{n} (x_i - \\overline{x})^2}{n}$$  \n",
    "и несмещенную оценку дисперсии:\n",
    "$$\\sigma^2_{несмещ.} = \\frac{\\sum\\limits_{i=1}^{n} (x_i - \\overline{x})^2}{n - 1}$$\n",
    "    "
   ]
  },
  {
   "cell_type": "code",
   "execution_count": 42,
   "metadata": {},
   "outputs": [],
   "source": [
    "variance1 = ((df['salary'] - mean_salary)**2).sum()/len(df)\n",
    "variance2 = ((df['salary'] - mean_salary)**2).sum()/len(df[1:])"
   ]
  },
  {
   "cell_type": "code",
   "execution_count": 43,
   "metadata": {},
   "outputs": [
    {
     "data": {
      "text/plain": [
       "True"
      ]
     },
     "execution_count": 43,
     "metadata": {},
     "output_type": "execute_result"
    }
   ],
   "source": [
    "variance1 == df['salary'].var(ddof=0)"
   ]
  },
  {
   "cell_type": "code",
   "execution_count": 44,
   "metadata": {},
   "outputs": [
    {
     "data": {
      "text/plain": [
       "True"
      ]
     },
     "execution_count": 44,
     "metadata": {},
     "output_type": "execute_result"
    }
   ],
   "source": [
    "variance2 == df['salary'].var(ddof=1)"
   ]
  },
  {
   "cell_type": "code",
   "execution_count": 47,
   "metadata": {},
   "outputs": [
    {
     "name": "stdout",
     "output_type": "stream",
     "text": [
      "Смещенная оценка дисперсии: 950.11\n",
      "Несмещенная оценка дисперсии: 1000.12\n"
     ]
    }
   ],
   "source": [
    "print('Смещенная оценка дисперсии: {:.2f}'.format(variance1))\n",
    "print('Несмещенная оценка дисперсии: {:.2f}'.format(variance2))"
   ]
  },
  {
   "cell_type": "markdown",
   "metadata": {},
   "source": [
    "### 2. \n",
    "В первом ящике находится 8 мячей, из которых 5 - белые.  \n",
    "Во втором ящике - 12 мячей, из которых 5 белых.  \n",
    "Из первого ящика вытаскивают случайным образом два мяча, из второго - 4.  \n",
    "Какова вероятность того, что 3 мяча белые?"
   ]
  },
  {
   "cell_type": "code",
   "execution_count": 54,
   "metadata": {},
   "outputs": [],
   "source": [
    "def combinations(n, k):\n",
    "    return factorial(n) / (factorial(k) * factorial (n - k))"
   ]
  },
  {
   "cell_type": "markdown",
   "metadata": {},
   "source": [
    "Рассмотрим сначала случай, когда мячи, вытащенные из первого ящика окажутся небелыми, а все 3 белых мяча будут вытащены из второго ящика."
   ]
  },
  {
   "cell_type": "markdown",
   "metadata": {},
   "source": [
    "Тогда для первого ящика:  \n",
    "Определим вероятность того, что все мячи из первого ящика небелые, как отношение числа благоприятных исходов к числу всех возможных исходов, тогда\n",
    "\n",
    "${C_3^2}$ - все сочетания по 2 из 3 небелых мячей\n",
    "\n",
    "${C_8^2}$ - все сочетания по 2 для 8 мячей"
   ]
  },
  {
   "cell_type": "code",
   "execution_count": 60,
   "metadata": {},
   "outputs": [],
   "source": [
    "p11 = combinations(3, 2)/combinations(8, 2)"
   ]
  },
  {
   "cell_type": "markdown",
   "metadata": {},
   "source": [
    "Для второго ящика:  \n",
    "Определим вероятность того, что из второго мяча будет вытащено 3 белых и один не белый шар"
   ]
  },
  {
   "cell_type": "markdown",
   "metadata": {},
   "source": [
    "${C_5^3}$ - все сочетания по 3 мяча из 5 белых\n",
    "\n",
    "${C_7^1}$ - все сочетания по 1 мячу из 7 небелых\n",
    "\n",
    "${C_{12}^4}$ - все сочетания по 4 для 12 мячей\n"
   ]
  },
  {
   "cell_type": "code",
   "execution_count": 89,
   "metadata": {},
   "outputs": [],
   "source": [
    "p12 = combinations(5, 3)*combinations(7, 1)/combinations(12, 4)"
   ]
  },
  {
   "cell_type": "markdown",
   "metadata": {},
   "source": [
    "Тогда, вероятность, что все 3 белых мяча будут вытащены из второго ящика будет:"
   ]
  },
  {
   "cell_type": "code",
   "execution_count": 124,
   "metadata": {},
   "outputs": [
    {
     "name": "stdout",
     "output_type": "stream",
     "text": [
      "P1 = 0.0016\n"
     ]
    }
   ],
   "source": [
    "p1 = p11 * p12\n",
    "print('P1 = {:.4f}'.format(p1))"
   ]
  },
  {
   "cell_type": "markdown",
   "metadata": {},
   "source": [
    "Рассмотрим случай, когда из первого ящика будет вытащено 2, а из второго 1 белый мяч"
   ]
  },
  {
   "cell_type": "markdown",
   "metadata": {},
   "source": [
    "Тогда для первого ящика:  \n",
    "\n",
    "${C_5^2}$ - все сочетания по 2 из 5 белых мячей\n",
    "\n",
    "${C_8^2}$ - все сочетания по 2 для 8 мячей"
   ]
  },
  {
   "cell_type": "code",
   "execution_count": 67,
   "metadata": {},
   "outputs": [],
   "source": [
    "p21 = combinations(5, 2)/combinations(8, 2)"
   ]
  },
  {
   "cell_type": "markdown",
   "metadata": {},
   "source": [
    "Для второго ящика:\n",
    "\n",
    "${C_5^1}$ - все сочетания из 1 мяча для 5 белых\n",
    "\n",
    "${C_7^3}$ - все сочетания по 3 мячей из 7 небелых\n",
    "\n",
    "${C_{12}^4}$ - все сочетания по 4 для 12 мячей"
   ]
  },
  {
   "cell_type": "code",
   "execution_count": 86,
   "metadata": {},
   "outputs": [],
   "source": [
    "p22 = combinations(5, 1)*combinations(7, 3)/combinations(12, 4)"
   ]
  },
  {
   "cell_type": "markdown",
   "metadata": {},
   "source": [
    "Тогда, вероятность, что 2 белых мяча будут вытащены из первого ящика и еще один из второго будет:"
   ]
  },
  {
   "cell_type": "code",
   "execution_count": 125,
   "metadata": {},
   "outputs": [
    {
     "name": "stdout",
     "output_type": "stream",
     "text": [
      "P2 = 0.1263\n"
     ]
    }
   ],
   "source": [
    "p2 = p21*p22\n",
    "print('P2 = {:.4f}'.format(p2))"
   ]
  },
  {
   "cell_type": "markdown",
   "metadata": {},
   "source": [
    "Рассмотрим теперь случай, когда из первого ящика будет вытащен один белый и один не белый мяч,  \n",
    "а из второго два белых и два не белых"
   ]
  },
  {
   "cell_type": "markdown",
   "metadata": {},
   "source": [
    "Тогда для первого ящика:\n",
    "\n",
    "${C_5^1}$ - все сочетания из одного мяча для 5 белых мячей\n",
    "\n",
    "${C_3^1}$ - все сочетания из одного мяча для 3 небелых мячей\n",
    "\n",
    "${C_8^2}$ - все сочетания по 2 для 8 мячей"
   ]
  },
  {
   "cell_type": "code",
   "execution_count": 118,
   "metadata": {},
   "outputs": [],
   "source": [
    "p31 = combinations(5, 1)*combinations(3, 1)/combinations(8, 2)"
   ]
  },
  {
   "cell_type": "markdown",
   "metadata": {},
   "source": [
    "Для второго ящика:  \n",
    "\n",
    "${C_5^2}$ - все сочетания из двух для 5 белых мячей\n",
    "\n",
    "${C_7^2}$ - все сочетания из двух мячей для 7 небелых мячей\n",
    "\n",
    "${C_8^2}$ - все сочетания по 4 для 12 мячей"
   ]
  },
  {
   "cell_type": "code",
   "execution_count": 121,
   "metadata": {},
   "outputs": [],
   "source": [
    "p32 = combinations(5, 2)*combinations(7, 2)/combinations(12, 4)"
   ]
  },
  {
   "cell_type": "markdown",
   "metadata": {},
   "source": [
    "Вероятность, что 2 белых мяча будут вытащены из второго ящика и еще один из первого будет:"
   ]
  },
  {
   "cell_type": "code",
   "execution_count": 122,
   "metadata": {},
   "outputs": [
    {
     "name": "stdout",
     "output_type": "stream",
     "text": [
      "P3 = 0.2273\n"
     ]
    }
   ],
   "source": [
    "p3 = p31 * p32\n",
    "print('P3 = {:.4f}'.format(p3))"
   ]
  },
  {
   "cell_type": "markdown",
   "metadata": {},
   "source": [
    "Вероятность того, что три мяча - белые:"
   ]
  },
  {
   "cell_type": "code",
   "execution_count": 126,
   "metadata": {},
   "outputs": [
    {
     "name": "stdout",
     "output_type": "stream",
     "text": [
      "P1 = 0.0016\n",
      "P2 = 0.1263\n",
      "P3 = 0.2273\n",
      "P = p1 + p2 + p3 = 0.3551\n"
     ]
    }
   ],
   "source": [
    "p = p1 + p2 + p3\n",
    "print('P1 = {:.4f}'.format(p1))\n",
    "print('P2 = {:.4f}'.format(p2))\n",
    "print('P3 = {:.4f}'.format(p3))\n",
    "print('P = p1 + p2 + p3 = {:.4f}'.format(p))"
   ]
  },
  {
   "cell_type": "markdown",
   "metadata": {},
   "source": [
    "### 3. \n",
    "На соревновании по биатлону один из трех спортсменов стреляет и попадает в мишень.  \n",
    "Вероятность попадания для первого спортсмена равна 0.9, для второго — 0.8, для третьего — 0.6.  \n",
    "Найти вероятность того, что выстрел произведен:  \n",
    "a). первым спортсменом  \n",
    "б). вторым спортсменом  \n",
    "в). третьим спортсменом."
   ]
  },
  {
   "cell_type": "code",
   "execution_count": 129,
   "metadata": {},
   "outputs": [
    {
     "name": "stdout",
     "output_type": "stream",
     "text": [
      "Вероятность того, что один из стрелков попадет - 0.7667\n",
      "Вероятность, что выстрел произведен первым стрелком - 0.3913\n",
      "Вероятность, что выстрел произведен вторым стрелком - 0.3478\n",
      "Вероятность, что выстрел произведен третьим стрелком - 0.2609\n"
     ]
    }
   ],
   "source": [
    "p1 = 0.9\n",
    "p2 = 0.8\n",
    "p3 = 0.6\n",
    "p = 1/3 * p1 + 1/3 * p2 + 1/3 * p3\n",
    "print('Вероятность того, что один из стрелков попадет - {:.4f}'.format(p))\n",
    "print('Вероятность, что выстрел произведен первым стрелком - {:.4f}'.format(p1/(3*p)))\n",
    "print('Вероятность, что выстрел произведен вторым стрелком - {:.4f}'.format(p2/(3*p)))\n",
    "print('Вероятность, что выстрел произведен третьим стрелком - {:.4f}'.format(p3/(3*p)))"
   ]
  },
  {
   "cell_type": "markdown",
   "metadata": {},
   "source": [
    "### 4.\n",
    "В университет на факультеты A и B поступило равное количество студентов,  \n",
    "а на факультет C студентов поступило столько же, сколько на A и B вместе.  \n",
    "Вероятность того, что студент факультета A сдаст первую сессию, равна 0.8.  \n",
    "Для студента факультета B эта вероятность равна 0.7,  \n",
    "а для студента факультета C - 0.9.  \n",
    "Студент сдал первую сессию. Какова вероятность, что он учится:   \n",
    "a). на факультете A    \n",
    "б). на факультете B  \n",
    "в). на факультете C?"
   ]
  },
  {
   "cell_type": "markdown",
   "metadata": {},
   "source": [
    "Вычислим сначала полную вероятность того, что студент одного из факультетов сдаст сессию\n"
   ]
  },
  {
   "cell_type": "code",
   "execution_count": 109,
   "metadata": {},
   "outputs": [
    {
     "name": "stdout",
     "output_type": "stream",
     "text": [
      "0.825\n"
     ]
    }
   ],
   "source": [
    "p_a1 = 0.8\n",
    "p_a2 = 0.7\n",
    "p_a3 = 0.9\n",
    "p_b1 = p_b2 = 0.25\n",
    "p_b3 = p_b1 + p_b2\n",
    "P_A = p_a1*p_b1 + p_a2*p_b2 + p_a3*p_b3\n",
    "print('{:.3f}'.format(P_A))"
   ]
  },
  {
   "cell_type": "markdown",
   "metadata": {},
   "source": [
    "Определим теперь вероятности для студентов каждого факультета по формуле Байеса:"
   ]
  },
  {
   "cell_type": "code",
   "execution_count": 110,
   "metadata": {},
   "outputs": [
    {
     "name": "stdout",
     "output_type": "stream",
     "text": [
      "Вероятность что студетнт сдал сессию и учится на факультете А - 0.242\n",
      "Вероятность что студетнт сдал сессию и учится на факультете В - 0.212\n",
      "Вероятность что студетнт сдал сессию и учится на факультете С - 0.545\n"
     ]
    }
   ],
   "source": [
    "p_b_a1 = p_a1*p_b1/P_A\n",
    "p_b_a2 = p_a2*p_b2/P_A\n",
    "p_b_a3 = p_a3*p_b3/P_A\n",
    "print('Вероятность что студетнт сдал сессию и учится на факультете А - {:.3f}'.format(p_b_a1))\n",
    "print('Вероятность что студетнт сдал сессию и учится на факультете В - {:.3f}'.format(p_b_a2))\n",
    "print('Вероятность что студетнт сдал сессию и учится на факультете С - {:.3f}'.format(p_b_a3))"
   ]
  },
  {
   "cell_type": "markdown",
   "metadata": {},
   "source": [
    "### 5. \n",
    "Устройство состоит из трех деталей.  \n",
    "Для первой детали вероятность выйти из строя в первый месяц равна 0.1, для второй - 0.2,  для третьей - 0.25. \n",
    "Какова вероятность того, что в первый месяц выйдут из строя:  \n",
    "а). все детали  \n",
    "б). только две детали  \n",
    "в). хотя бы одна деталь  \n",
    "г). от одной до двух деталей?"
   ]
  },
  {
   "cell_type": "code",
   "execution_count": 130,
   "metadata": {},
   "outputs": [],
   "source": [
    "p1 = 0.1\n",
    "p2 = 0.2\n",
    "p3 = 0.25\n",
    "q1 = 1 - p1\n",
    "q2 = 1 - p2\n",
    "q3 = 1 - p3"
   ]
  },
  {
   "cell_type": "markdown",
   "metadata": {},
   "source": [
    "Тогда вероятность, что все 3 детали выйдут из строя составит:"
   ]
  },
  {
   "cell_type": "code",
   "execution_count": 114,
   "metadata": {},
   "outputs": [
    {
     "name": "stdout",
     "output_type": "stream",
     "text": [
      "Вероятность того, что все 3 детали выйдут из строя - 0.005\n"
     ]
    }
   ],
   "source": [
    "p123 = p1*p2*p3\n",
    "print('Вероятность того, что все 3 детали выйдут из строя - {:.3f}'.format(p123))"
   ]
  },
  {
   "cell_type": "markdown",
   "metadata": {},
   "source": [
    "Вероятность того, что из строя выйдут только две детали:"
   ]
  },
  {
   "cell_type": "code",
   "execution_count": 131,
   "metadata": {},
   "outputs": [
    {
     "name": "stdout",
     "output_type": "stream",
     "text": [
      "Вероятность того, что из строя выйдут 2 детали - 0.080\n"
     ]
    }
   ],
   "source": [
    "p12 = p1*p2*q3 #вероятность того, что из строя выйдет первая и вторая детали\n",
    "p13 = p1*q2*p3 #вероятность того, что из строя выйдет первая и третья детали\n",
    "p23 = q1*p2*p3 #вероятность того, что из строя выйдут вторая и третья детали\n",
    "p12_13_23 = p12 + p13 + p23 #вероятность того, что из строя выйдут любые две детали\n",
    "print('Вероятность того, что из строя выйдут 2 детали - {:.3f}'.format(p12_13_23))"
   ]
  },
  {
   "cell_type": "markdown",
   "metadata": {},
   "source": [
    "Вероятность того, что из строя выйдет хотя-бы одна деталь:"
   ]
  },
  {
   "cell_type": "code",
   "execution_count": 132,
   "metadata": {},
   "outputs": [
    {
     "name": "stdout",
     "output_type": "stream",
     "text": [
      "Вероятность того, что из строя выйдет 1 деталь - 0.460\n"
     ]
    }
   ],
   "source": [
    "pq1 = 1 - q1*q2*q3\n",
    "print('Вероятность того, что из строя выйдет 1 деталь - {:.3f}'.format(pq1))"
   ]
  },
  {
   "cell_type": "markdown",
   "metadata": {},
   "source": [
    "Вероятность того, что из строя выйдет от одной до двух деталей:"
   ]
  },
  {
   "cell_type": "code",
   "execution_count": 134,
   "metadata": {},
   "outputs": [
    {
     "name": "stdout",
     "output_type": "stream",
     "text": [
      "Вероятность того, что из строя выйдет от одной до двух деталей - 0.455\n"
     ]
    }
   ],
   "source": [
    "pq2 = 1 - p1*p2*p3 - q1*q2*q3\n",
    "print('Вероятность того, что из строя выйдет от одной до двух деталей - {:.3f}'.format(pq2))"
   ]
  },
  {
   "cell_type": "code",
   "execution_count": null,
   "metadata": {},
   "outputs": [],
   "source": []
  }
 ],
 "metadata": {
  "kernelspec": {
   "display_name": "Python 3",
   "language": "python",
   "name": "python3"
  },
  "language_info": {
   "codemirror_mode": {
    "name": "ipython",
    "version": 3
   },
   "file_extension": ".py",
   "mimetype": "text/x-python",
   "name": "python",
   "nbconvert_exporter": "python",
   "pygments_lexer": "ipython3",
   "version": "3.7.4"
  }
 },
 "nbformat": 4,
 "nbformat_minor": 2
}
