{
 "cells": [
  {
   "cell_type": "code",
   "execution_count": 1,
   "metadata": {},
   "outputs": [],
   "source": [
    "from math import factorial"
   ]
  },
  {
   "cell_type": "code",
   "execution_count": 2,
   "metadata": {},
   "outputs": [],
   "source": [
    "def combinations(n, k):\n",
    "    return factorial(n) / (factorial(k) * factorial (n - k))"
   ]
  },
  {
   "cell_type": "code",
   "execution_count": 3,
   "metadata": {},
   "outputs": [],
   "source": [
    "def arrangements(n, k):\n",
    "    return factorial(n) / factorial (n - k)"
   ]
  },
  {
   "cell_type": "markdown",
   "metadata": {},
   "source": [
    "### Задание №1\n",
    "Из колоды в 52 карты извлекаются случайным образом 4 карты.  \n",
    "a) Найти вероятность того, что все карты – крести.  \n",
    "б) Найти вероятность, что среди 4-х карт окажется ХОТЯ БЫ один туз.  "
   ]
  },
  {
   "cell_type": "markdown",
   "metadata": {},
   "source": [
    "### №1.а  \n",
    "В колоде 52/4 = 13 крестовых карт,  \n",
    "определим сначала колличество сочетаний по 4 карты из них,  \n",
    "при n = 13 и k = 4 получаем:  \n",
    "C = 13!/(4!(13-4)!): "
   ]
  },
  {
   "cell_type": "code",
   "execution_count": 4,
   "metadata": {},
   "outputs": [
    {
     "data": {
      "text/plain": [
       "715.0"
      ]
     },
     "execution_count": 4,
     "metadata": {},
     "output_type": "execute_result"
    }
   ],
   "source": [
    "combinations(13, 4)"
   ]
  },
  {
   "cell_type": "markdown",
   "metadata": {},
   "source": [
    "Определим теперь колличество всех возможных сочетаний по 4 карты из колоды в 52 карты:  \n",
    "n = 52,  \n",
    "k = 4,  \n",
    "C = 52!/4!(13-4)!):"
   ]
  },
  {
   "cell_type": "code",
   "execution_count": 5,
   "metadata": {},
   "outputs": [
    {
     "data": {
      "text/plain": [
       "270725.0"
      ]
     },
     "execution_count": 5,
     "metadata": {},
     "output_type": "execute_result"
    }
   ],
   "source": [
    "combinations(52, 4)"
   ]
  },
  {
   "cell_type": "markdown",
   "metadata": {},
   "source": [
    "Вероятность того, что в извлеченных случайно из колоды 4 картах, все окажутся крести:  \n",
    "#### P = m/n, где   \n",
    "m = 715 - колличество благоприятных исходов,  \n",
    "n = 270725 - колличество всех исходов,  \n",
    "#### m/n = 715/270725 = 0.0026, или 0.26%"
   ]
  },
  {
   "cell_type": "markdown",
   "metadata": {},
   "source": [
    "### №1.б "
   ]
  },
  {
   "cell_type": "markdown",
   "metadata": {},
   "source": [
    "Определим сначала колличество сочетаний 4х карт, в которых будет 1, 2, 3 или 4 туза"
   ]
  },
  {
   "cell_type": "code",
   "execution_count": 6,
   "metadata": {},
   "outputs": [
    {
     "name": "stdout",
     "output_type": "stream",
     "text": [
      "При k=1 и n=4 c=4.0\n",
      "При k=2 и n=4 c=6.0\n",
      "При k=3 и n=4 c=4.0\n",
      "При k=4 и n=4 c=1.0\n"
     ]
    }
   ],
   "source": [
    "n = 4\n",
    "t = [] #список для колличеств сочетаний из тузов по 1, 2, 3 и 4 карты\n",
    "for k in range(1,5):\n",
    "    c = combinations(n, k)\n",
    "    print('При k={} и n={} c={}'.format(k, n, c))\n",
    "    t.append(c)"
   ]
  },
  {
   "cell_type": "markdown",
   "metadata": {},
   "source": [
    "Вычислим колличество возможных сочетаний из 1, 2 и 3х карт в колоде за вычетом тузов "
   ]
  },
  {
   "cell_type": "code",
   "execution_count": 7,
   "metadata": {},
   "outputs": [
    {
     "name": "stdout",
     "output_type": "stream",
     "text": [
      "При k=1 и n=48 c=48.0\n",
      "При k=2 и n=48 c=1128.0\n",
      "При k=3 и n=48 c=17296.0\n"
     ]
    }
   ],
   "source": [
    "n = 48\n",
    "non_t = [] #список для колличеств сочетаний не тузов из 1, 2 и 3х карт\n",
    "for k in range(1, 4):\n",
    "    c = combinations(n, k)\n",
    "    print('При k={} и n={} c={}'.format(k, n, c))\n",
    "    non_t.append(c)"
   ]
  },
  {
   "cell_type": "markdown",
   "metadata": {},
   "source": [
    "Найдем теперь колличество сочетаний:  \n",
    "* один туз + 3 не туза\n",
    "* два туза + 2 не туза\n",
    "* три туза + 1 туз\n",
    "* 4 туза"
   ]
  },
  {
   "cell_type": "code",
   "execution_count": 8,
   "metadata": {},
   "outputs": [
    {
     "name": "stdout",
     "output_type": "stream",
     "text": [
      "4.0 x 17296.0 = 69184.0\n",
      "6.0 x 1128.0 = 6768.0\n",
      "4.0 x 48.0 = 192.0\n",
      "1.0 x 1 = 1.0\n"
     ]
    }
   ],
   "source": [
    "non_t.reverse()\n",
    "non_t.append(1) #случай, когда все 4 карты - тузы\n",
    "for c_t, c_non_t in zip(t, non_t):\n",
    "    print('{} x {} = {}'.format(c_t, c_non_t, c_t*c_non_t))\n"
   ]
  },
  {
   "cell_type": "markdown",
   "metadata": {},
   "source": [
    "Вычислим теперь число всех благоприятных исходов:"
   ]
  },
  {
   "cell_type": "code",
   "execution_count": 9,
   "metadata": {},
   "outputs": [
    {
     "data": {
      "text/plain": [
       "76145"
      ]
     },
     "execution_count": 9,
     "metadata": {},
     "output_type": "execute_result"
    }
   ],
   "source": [
    "69184 + 6768 + 192 + 1"
   ]
  },
  {
   "cell_type": "markdown",
   "metadata": {},
   "source": [
    "Вычислим вероятность того, что среди 4х произвольных карт хотя бы одна окажется тузом,  \n",
    "число всех возможных исходов возьмем из решения задания 1а"
   ]
  },
  {
   "cell_type": "markdown",
   "metadata": {},
   "source": [
    "Вероятность того, что из 4х произвольных карт одна окажется тузом:  "
   ]
  },
  {
   "cell_type": "code",
   "execution_count": 10,
   "metadata": {},
   "outputs": [
    {
     "name": "stdout",
     "output_type": "stream",
     "text": [
      "P = 0.2813 = 28.13%\n"
     ]
    }
   ],
   "source": [
    "m = 76145  \n",
    "n = 270725\n",
    "print('P = {:.4f} = {:.2f}%'.format(m/n, m/n*100))"
   ]
  },
  {
   "cell_type": "markdown",
   "metadata": {},
   "source": [
    "### Задание №2\n",
    "На входной двери подъезда установлен кодовый замок, содержащий десять кнопок с цифрами от 0 до 9. Код содержит три цифры, которые нужно нажать одновременно. Какова вероятность того, что человек, не знающий код, откроет дверь с первой попытки?"
   ]
  },
  {
   "cell_type": "markdown",
   "metadata": {},
   "source": [
    "Для каждого из 3х разрядов замка  \n",
    "колличество возможных исходов n = 10  \n",
    "колличество благоприятных исходов m = 1  \n",
    "вероятность верно ввести одну цифру 1/10  \n",
    "Угадывание каждой из 3х цифр по отдельности - независимое от других цифр событие  \n",
    "Вероятность наступления независимых событий определяется как произведение их вероятностей, соответственно  \n",
    "P(ABC) = P(A) x P(B) x P(C) = 1 / 10**3 = 0.001\n",
    "### P = 0.001 = 0.1%"
   ]
  },
  {
   "cell_type": "markdown",
   "metadata": {},
   "source": [
    "### Задание №3\n",
    "В ящике имеется 15 деталей, из которых 9 окрашены. Рабочий случайным образом извлекает 3 детали. Какова вероятность того, что все извлеченные детали окрашены?"
   ]
  },
  {
   "cell_type": "markdown",
   "metadata": {},
   "source": [
    "Вероятность того, что первая деталь окажется окрашенной:  \n",
    "m = 9, n = 15, \n",
    "P(A) = m/n = 9/15,  \n",
    "вероятность того, что вторая деталь окажется окрашенной при условии, что окрашена первая  \n",
    "m = 8, n = 14  \n",
    "P(B|A) = 8/14  \n",
    "вероятность того, что из 2х извлеченных деталей обе окрашены, как вероятность двух зависимых событий    \n",
    "P(A * B) = P(A) * P (B|A) = (9/15) * (8/14)  \n",
    "аналогично для третей детали:  \n",
    "m = 7, n = 13  \n",
    "P(C| A * B) = 7/13  \n",
    "вероятность того, что все 3 детали окрашены:  \n",
    "P(A * B * C) = (9/15) * (8/14) * (7/13) = 504/2730 =   "
   ]
  },
  {
   "cell_type": "code",
   "execution_count": 11,
   "metadata": {},
   "outputs": [
    {
     "name": "stdout",
     "output_type": "stream",
     "text": [
      "P = 0.1846 = 18.46%\n"
     ]
    }
   ],
   "source": [
    "print('P = {:.4f} = {:.2f}%'.format(504/2730, 504/2730*100))"
   ]
  },
  {
   "cell_type": "markdown",
   "metadata": {},
   "source": [
    "Вариант решения спомощью сочетаний:\n",
    "Все возможные сочетания из 3х деталей для 15 деталей  \n",
    "С = 15!/(3!(15-3)!)  \n",
    "Все возможные сочетания из 3х деталей для 9 окрашенных деталей  \n",
    "С = 9!/(3!(9-3)!)"
   ]
  },
  {
   "cell_type": "code",
   "execution_count": 12,
   "metadata": {},
   "outputs": [
    {
     "name": "stdout",
     "output_type": "stream",
     "text": [
      "P = 0.1846 = 18.46%\n"
     ]
    }
   ],
   "source": [
    "С = combinations(9, 3) / combinations(15, 3)\n",
    "print('P = {:.4f} = {:.2f}%'.format(С, С*100))"
   ]
  },
  {
   "cell_type": "markdown",
   "metadata": {},
   "source": [
    "#### Задание №4\n",
    "В лотерее 100 билетов. Из них 2 выигрышных. Какова вероятность того, что 2 приобретенных билета окажутся выигрышными?"
   ]
  },
  {
   "cell_type": "markdown",
   "metadata": {},
   "source": [
    "Вариант решения спомощью сочетаний:  \n",
    "Все возможные сочетания из 2х билетов для 100 билетов  \n",
    "С = 100!/(2!(100-2)!) = (98! * 99 * 100) / (1 * 2) * 98! = (99 * 100) / 2 = 4950  \n",
    "Все возможные сочетания из 2х билетов для 2 выигрышных билетов  \n",
    "С = 2!/(2!(2-2)!) = 2 /(2 * 1) = 1  "
   ]
  },
  {
   "cell_type": "code",
   "execution_count": 15,
   "metadata": {},
   "outputs": [],
   "source": [
    "P = 1/4950"
   ]
  },
  {
   "cell_type": "code",
   "execution_count": 16,
   "metadata": {},
   "outputs": [
    {
     "name": "stdout",
     "output_type": "stream",
     "text": [
      "P = 0.0002 = 0.02%\n"
     ]
    }
   ],
   "source": [
    "print('P = {:.4f} = {:.2f}%'.format(P, P*100))  \n"
   ]
  }
 ],
 "metadata": {
  "kernelspec": {
   "display_name": "Python 3",
   "language": "python",
   "name": "python3"
  },
  "language_info": {
   "codemirror_mode": {
    "name": "ipython",
    "version": 3
   },
   "file_extension": ".py",
   "mimetype": "text/x-python",
   "name": "python",
   "nbconvert_exporter": "python",
   "pygments_lexer": "ipython3",
   "version": "3.7.4"
  }
 },
 "nbformat": 4,
 "nbformat_minor": 2
}
