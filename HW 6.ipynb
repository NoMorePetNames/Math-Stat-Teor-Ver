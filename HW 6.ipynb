{
 "cells": [
  {
   "cell_type": "markdown",
   "metadata": {},
   "source": [
    "1) Даны значения величины заработной платы заемщиков банка (zp) и значения их поведенческого кредитного скоринга (ks):  \n",
    "zp = [35, 45, 190, 200, 40, 70, 54, 150, 120, 110],  \n",
    "ks = [401, 574, 874, 919, 459, 739, 653, 902, 746, 832].  \n",
    "Найдите ковариацию этих двух величин с помощью элементарных действий, а затем с помощью функции cov из numpy  \n",
    "Полученные значения должны быть равны.  \n",
    "Найдите коэффициент корреляции Пирсона с помощью ковариации и среднеквадратичных отклонений двух признаков,  \n",
    "а затем с использованием функций из библиотек numpy и pandas.  "
   ]
  },
  {
   "cell_type": "markdown",
   "metadata": {},
   "source": [
    "Оприеделим ковариацию величин с помощью элементарных функций:\n",
    "\n",
    "$$cov_{XY} = M(XY) - M(X)M(Y)$$"
   ]
  },
  {
   "cell_type": "code",
   "execution_count": 9,
   "metadata": {},
   "outputs": [
    {
     "data": {
      "text/html": [
       "<div>\n",
       "<style scoped>\n",
       "    .dataframe tbody tr th:only-of-type {\n",
       "        vertical-align: middle;\n",
       "    }\n",
       "\n",
       "    .dataframe tbody tr th {\n",
       "        vertical-align: top;\n",
       "    }\n",
       "\n",
       "    .dataframe thead th {\n",
       "        text-align: right;\n",
       "    }\n",
       "</style>\n",
       "<table border=\"1\" class=\"dataframe\">\n",
       "  <thead>\n",
       "    <tr style=\"text-align: right;\">\n",
       "      <th></th>\n",
       "      <th>Заработная плата</th>\n",
       "      <th>Кредитный скоринг</th>\n",
       "    </tr>\n",
       "  </thead>\n",
       "  <tbody>\n",
       "    <tr>\n",
       "      <td>0</td>\n",
       "      <td>35</td>\n",
       "      <td>401</td>\n",
       "    </tr>\n",
       "    <tr>\n",
       "      <td>1</td>\n",
       "      <td>45</td>\n",
       "      <td>574</td>\n",
       "    </tr>\n",
       "    <tr>\n",
       "      <td>2</td>\n",
       "      <td>190</td>\n",
       "      <td>874</td>\n",
       "    </tr>\n",
       "    <tr>\n",
       "      <td>3</td>\n",
       "      <td>200</td>\n",
       "      <td>919</td>\n",
       "    </tr>\n",
       "    <tr>\n",
       "      <td>4</td>\n",
       "      <td>40</td>\n",
       "      <td>459</td>\n",
       "    </tr>\n",
       "    <tr>\n",
       "      <td>5</td>\n",
       "      <td>70</td>\n",
       "      <td>739</td>\n",
       "    </tr>\n",
       "    <tr>\n",
       "      <td>6</td>\n",
       "      <td>54</td>\n",
       "      <td>653</td>\n",
       "    </tr>\n",
       "    <tr>\n",
       "      <td>7</td>\n",
       "      <td>150</td>\n",
       "      <td>902</td>\n",
       "    </tr>\n",
       "    <tr>\n",
       "      <td>8</td>\n",
       "      <td>120</td>\n",
       "      <td>746</td>\n",
       "    </tr>\n",
       "    <tr>\n",
       "      <td>9</td>\n",
       "      <td>110</td>\n",
       "      <td>832</td>\n",
       "    </tr>\n",
       "  </tbody>\n",
       "</table>\n",
       "</div>"
      ],
      "text/plain": [
       "   Заработная плата  Кредитный скоринг\n",
       "0                35                401\n",
       "1                45                574\n",
       "2               190                874\n",
       "3               200                919\n",
       "4                40                459\n",
       "5                70                739\n",
       "6                54                653\n",
       "7               150                902\n",
       "8               120                746\n",
       "9               110                832"
      ]
     },
     "execution_count": 9,
     "metadata": {},
     "output_type": "execute_result"
    }
   ],
   "source": [
    "zp = [35, 45, 190, 200, 40, 70, 54, 150, 120, 110]\n",
    "ks = [401, 574, 874, 919, 459, 739, 653, 902, 746, 832]\n",
    "d = {'Заработная плата':zp, 'Кредитный скоринг':ks}\n",
    "df = pd.DataFrame(data=d)\n",
    "df"
   ]
  },
  {
   "cell_type": "code",
   "execution_count": 20,
   "metadata": {},
   "outputs": [
    {
     "name": "stdout",
     "output_type": "stream",
     "text": [
      "M(x)=101.4, M(y)=709.9\n"
     ]
    },
    {
     "data": {
      "text/plain": [
       "(True, True)"
      ]
     },
     "execution_count": 20,
     "metadata": {},
     "output_type": "execute_result"
    }
   ],
   "source": [
    "n = len(df)\n",
    "m_x, m_y = sum(df['Заработная плата'])/n, sum(df['Кредитный скоринг'])/n\n",
    "m_x_np, m_y_np = df['Заработная плата'].mean(), df['Кредитный скоринг'].mean()\n",
    "\n",
    "print('M(x)={}, M(y)={}'.format(m_x, m_y))\n",
    "m_x == m_x_np, m_y == m_y_np"
   ]
  },
  {
   "cell_type": "code",
   "execution_count": 61,
   "metadata": {},
   "outputs": [
    {
     "data": {
      "text/plain": [
       "9157.839999999997"
      ]
     },
     "execution_count": 61,
     "metadata": {},
     "output_type": "execute_result"
    }
   ],
   "source": [
    "cov_xy = sum(df['Заработная плата']*df['Кредитный скоринг'])/n - (sum(df['Заработная плата'])/n)*(sum(df['Кредитный скоринг'])/n)\n",
    "cov_xy == (df['Заработная плата']*df['Кредитный скоринг']).mean() - df['Заработная плата'].mean()*df['Кредитный скоринг'].mean()\n",
    "cov_xy"
   ]
  },
  {
   "cell_type": "code",
   "execution_count": 58,
   "metadata": {},
   "outputs": [
    {
     "name": "stdout",
     "output_type": "stream",
     "text": [
      "cov=9157.84\n"
     ]
    },
    {
     "data": {
      "text/plain": [
       "True"
      ]
     },
     "execution_count": 58,
     "metadata": {},
     "output_type": "execute_result"
    }
   ],
   "source": [
    "#Определим теперь ковариацию средствами библиотеки Numpy:\n",
    "cov_np = np.cov(df['Заработная плата'], df['Кредитный скоринг'], ddof=0)\n",
    "\n",
    "print('cov={:.2f}'.format(cov_xy))\n",
    "round(cov_np[0][1], 2) == round(cov_xy, 2)"
   ]
  },
  {
   "cell_type": "markdown",
   "metadata": {},
   "source": [
    "Смещенные оценки ковариации, полученные расчетом элементарными функции и с применением библиотеки Numpy совпали   \n",
    "Определим теперь значение коэффициэнта корреляции Пирсона для несмещенных значений величин выборки:\n",
    "\n",
    "$$r_{XY} = \\frac{cov_{XY}}{\\sigma_{X}\\sigma_{Y}}$$"
   ]
  },
  {
   "cell_type": "code",
   "execution_count": 62,
   "metadata": {},
   "outputs": [
    {
     "name": "stdout",
     "output_type": "stream",
     "text": [
      "cov=10175.38\n"
     ]
    },
    {
     "data": {
      "text/plain": [
       "True"
      ]
     },
     "execution_count": 62,
     "metadata": {},
     "output_type": "execute_result"
    }
   ],
   "source": [
    "#Определим несмещенные значения характеристик выборки, ковариация:\n",
    "cov_xy = sum(df['Заработная плата']*df['Кредитный скоринг'])/(n-1) - (sum(df['Заработная плата'])/(n-1))*(sum(df['Кредитный скоринг'])/(n))\n",
    "cov_np = np.cov(df['Заработная плата'], df['Кредитный скоринг'], ddof=1)\n",
    "print('cov={:.2f}'.format(cov_xy))\n",
    "round(cov_np[0][1], 2) == round(cov_xy, 2)"
   ]
  },
  {
   "cell_type": "code",
   "execution_count": 73,
   "metadata": {},
   "outputs": [
    {
     "name": "stdout",
     "output_type": "stream",
     "text": [
      "s(x)=62.31, s(y)=184.00\n",
      "True True\n"
     ]
    }
   ],
   "source": [
    "#Стандартные отклонения величин Х и Y:\n",
    "sigma_x = (sum((m_x - df['Заработная плата'])**2)/(n-1))**0.5\n",
    "sigma_x_np = np.std(df['Заработная плата'], ddof=1)\n",
    "sigma_y = (sum((m_y - df['Кредитный скоринг'])**2)/(n-1))**0.5\n",
    "sigma_y_np = np.std(df['Кредитный скоринг'], ddof=1)\n",
    "print('s(x)={:.2f}, s(y)={:.2f}'.format(sigma_x, sigma_y))\n",
    "print(sigma_x == sigma_x_np, sigma_y == sigma_y_np)"
   ]
  },
  {
   "cell_type": "code",
   "execution_count": 85,
   "metadata": {},
   "outputs": [
    {
     "name": "stdout",
     "output_type": "stream",
     "text": [
      "r_xy=0.89\n"
     ]
    },
    {
     "data": {
      "text/html": [
       "<div>\n",
       "<style scoped>\n",
       "    .dataframe tbody tr th:only-of-type {\n",
       "        vertical-align: middle;\n",
       "    }\n",
       "\n",
       "    .dataframe tbody tr th {\n",
       "        vertical-align: top;\n",
       "    }\n",
       "\n",
       "    .dataframe thead th {\n",
       "        text-align: right;\n",
       "    }\n",
       "</style>\n",
       "<table border=\"1\" class=\"dataframe\">\n",
       "  <thead>\n",
       "    <tr style=\"text-align: right;\">\n",
       "      <th></th>\n",
       "      <th>Заработная плата</th>\n",
       "      <th>Кредитный скоринг</th>\n",
       "    </tr>\n",
       "  </thead>\n",
       "  <tbody>\n",
       "    <tr>\n",
       "      <td>Заработная плата</td>\n",
       "      <td>1.00000</td>\n",
       "      <td>0.88749</td>\n",
       "    </tr>\n",
       "    <tr>\n",
       "      <td>Кредитный скоринг</td>\n",
       "      <td>0.88749</td>\n",
       "      <td>1.00000</td>\n",
       "    </tr>\n",
       "  </tbody>\n",
       "</table>\n",
       "</div>"
      ],
      "text/plain": [
       "                   Заработная плата  Кредитный скоринг\n",
       "Заработная плата            1.00000            0.88749\n",
       "Кредитный скоринг           0.88749            1.00000"
      ]
     },
     "execution_count": 85,
     "metadata": {},
     "output_type": "execute_result"
    }
   ],
   "source": [
    "#Коэффициент корреляции Пирсона (несмещенная оценка)\n",
    "r_xy = cov_xy/(sigma_x * sigma_y)\n",
    "print('r_xy={:.2f}'.format(r_xy))\n",
    "df.corr()"
   ]
  },
  {
   "cell_type": "code",
   "execution_count": 87,
   "metadata": {},
   "outputs": [
    {
     "name": "stderr",
     "output_type": "stream",
     "text": [
      "C:\\ProgramData\\Anaconda3\\lib\\site-packages\\ipykernel_launcher.py:1: DeprecationWarning: bias and ddof have no effect and are deprecated\n",
      "  \"\"\"Entry point for launching an IPython kernel.\n"
     ]
    },
    {
     "data": {
      "text/plain": [
       "True"
      ]
     },
     "execution_count": 87,
     "metadata": {},
     "output_type": "execute_result"
    }
   ],
   "source": [
    "r_xy_np = np.corrcoef(df['Заработная плата'], df['Кредитный скоринг'], ddof=1)[0][1]\n",
    "round(r_xy, 2) == round(r_xy_np, 2)"
   ]
  },
  {
   "cell_type": "markdown",
   "metadata": {},
   "source": [
    "#### Величины коэффициента корреляции Пирсона (несмещенная оценка), полученные расчетом элементарными функции и функциями библиотеки Numpy совпадают"
   ]
  },
  {
   "cell_type": "markdown",
   "metadata": {},
   "source": [
    "2) Измерены значения IQ выборки студентов,  \n",
    "обучающихся в местных технических вузах:  \n",
    "131, 125, 115, 122, 131, 115, 107, 99, 125, 111.  \n",
    "Известно, что в генеральной совокупности IQ распределен нормально.  \n",
    "Найдите доверительный интервал для математического ожидания с надежностью 0.95.  "
   ]
  },
  {
   "cell_type": "code",
   "execution_count": 89,
   "metadata": {},
   "outputs": [
    {
     "data": {
      "text/html": [
       "<div>\n",
       "<style scoped>\n",
       "    .dataframe tbody tr th:only-of-type {\n",
       "        vertical-align: middle;\n",
       "    }\n",
       "\n",
       "    .dataframe tbody tr th {\n",
       "        vertical-align: top;\n",
       "    }\n",
       "\n",
       "    .dataframe thead th {\n",
       "        text-align: right;\n",
       "    }\n",
       "</style>\n",
       "<table border=\"1\" class=\"dataframe\">\n",
       "  <thead>\n",
       "    <tr style=\"text-align: right;\">\n",
       "      <th></th>\n",
       "      <th>IQ</th>\n",
       "    </tr>\n",
       "  </thead>\n",
       "  <tbody>\n",
       "    <tr>\n",
       "      <td>0</td>\n",
       "      <td>131</td>\n",
       "    </tr>\n",
       "    <tr>\n",
       "      <td>1</td>\n",
       "      <td>125</td>\n",
       "    </tr>\n",
       "    <tr>\n",
       "      <td>2</td>\n",
       "      <td>115</td>\n",
       "    </tr>\n",
       "    <tr>\n",
       "      <td>3</td>\n",
       "      <td>122</td>\n",
       "    </tr>\n",
       "    <tr>\n",
       "      <td>4</td>\n",
       "      <td>131</td>\n",
       "    </tr>\n",
       "    <tr>\n",
       "      <td>5</td>\n",
       "      <td>115</td>\n",
       "    </tr>\n",
       "    <tr>\n",
       "      <td>6</td>\n",
       "      <td>107</td>\n",
       "    </tr>\n",
       "    <tr>\n",
       "      <td>7</td>\n",
       "      <td>99</td>\n",
       "    </tr>\n",
       "    <tr>\n",
       "      <td>8</td>\n",
       "      <td>125</td>\n",
       "    </tr>\n",
       "    <tr>\n",
       "      <td>9</td>\n",
       "      <td>111</td>\n",
       "    </tr>\n",
       "  </tbody>\n",
       "</table>\n",
       "</div>"
      ],
      "text/plain": [
       "    IQ\n",
       "0  131\n",
       "1  125\n",
       "2  115\n",
       "3  122\n",
       "4  131\n",
       "5  115\n",
       "6  107\n",
       "7   99\n",
       "8  125\n",
       "9  111"
      ]
     },
     "execution_count": 89,
     "metadata": {},
     "output_type": "execute_result"
    }
   ],
   "source": [
    "iq = 131, 125, 115, 122, 131, 115, 107, 99, 125, 111\n",
    "iq_dict = {'IQ':iq}\n",
    "iq_df = pd.DataFrame(data=iq_dict)"
   ]
  },
  {
   "cell_type": "code",
   "execution_count": 104,
   "metadata": {},
   "outputs": [
    {
     "name": "stdout",
     "output_type": "stream",
     "text": [
      "m_x=118.10, std_x=10.55\n"
     ]
    }
   ],
   "source": [
    "#Определим характеристики выборки\n",
    "m_x = float(iq_df.mean()) # выборочное среднее значение\n",
    "std_x = np.std(iq_df['IQ'], ddof=1) #несмещенная оценка стандартного отклонения для выборки\n",
    "print('m_x={:.2f}, std_x={:.2f}'.format(m_x, std_x))"
   ]
  },
  {
   "cell_type": "markdown",
   "metadata": {},
   "source": [
    "Ввиду того, что стандартное отклонение для генеральной совокупности нам не известно,  \n",
    "для нахождения границ доверительного интервала\n",
    "воспользумся t-критерием Стьюдента:\n",
    "\n",
    "$$ \\overline{x} - t_{\\alpha/2}\\frac{\\sigma}{\\sqrt{n}} \\leq M(x) \\leq \\overline{x} + t_{\\alpha/2}\\frac{\\sigma}{\\sqrt{n}} $$\n",
    "\n",
    "для n-1 = 9 и a/2 = 0.025 t = 2.262, тогда:\n",
    "\n",
    "$$118.1 - 2.262\\frac{10.55}{\\sqrt{10}} \\leq M(x) \\leq 118.1 + 2.262\\frac{10.55}{\\sqrt{10}}$$\n",
    "\n",
    "$$118.1 - 7.547 \\leq M(x) \\leq 118.1 + 7.547$$\n",
    "\n",
    "$$110.55 \\leq M(x) \\leq 125.65$$"
   ]
  },
  {
   "cell_type": "code",
   "execution_count": 128,
   "metadata": {},
   "outputs": [
    {
     "data": {
      "image/png": "[encoded data removed]",
      "text/plain": [
       "<Figure size 432x288 with 1 Axes>"
      ]
     },
     "metadata": {
      "needs_background": "light"
     },
     "output_type": "display_data"
    }
   ],
   "source": [
    "plot_distribution(118.1, 10.55/(10**0.5), 110.55, 125.65)"
   ]
  },
  {
   "cell_type": "markdown",
   "metadata": {},
   "source": [
    "3) Известно, что рост футболистов в сборной распределен нормально  \n",
    "с дисперсией генеральной совокупности, равной 25 кв.см. Объем выборки равен 27,  \n",
    "среднее выборочное составляет 174.2. Найдите доверительный интервал для математического  \n",
    "ожидания с надежностью 0.95.  "
   ]
  },
  {
   "cell_type": "markdown",
   "metadata": {},
   "source": [
    "Из условий задачи:\n",
    "\n",
    "$ \\alpha = 0.95$  \n",
    "$ D = 25$  \n",
    "$ \\sigma = \\sqrt{D} = 5$  \n",
    "$ \\overline{x} = 174.2$  \n",
    "$ n = 27$\n",
    "\n",
    "Тогда доверительный интервал будет равен:\n",
    "\n",
    "$$ \\overline{x} - z_{\\alpha/2}\\frac{\\sigma}{\\sqrt{n}} \\leq M(x) \\leq \\overline{x} + z_{\\alpha/2}\\frac{\\sigma}{\\sqrt{n}} $$\n",
    "\n",
    "По таблице значений функции Лапласа для $\\alpha/2 = 0.475$ находим: $z_{\\alpha/2} = 1.96$\n",
    "\n",
    "Тогда границы доверительного интервала составят:\n",
    "\n",
    "$$ 174.2 - 1.96\\frac{5}{\\sqrt{27}} \\leq M(x) \\leq 174.2 + 1.96\\frac{5}{\\sqrt{27}} $$\n",
    "$$ 174.2 - 1.96\\frac{5}{5.196} \\leq M(x) \\leq 174.2 + 1.96\\frac{5}{5.196} $$  \n",
    "\n",
    "$$ 174.2 - 1.96 \\cdot 0.962 \\leq M(x) \\leq 174.2 + 1.96 \\cdot 0.962 $$  \n",
    "\n",
    "$$ 174.2 - 1.886 \\leq M(x) \\leq 174.2 + 1.886 $$\n",
    "\n",
    "$$ 172.31 \\leq M(x) \\leq 176.09 $$"
   ]
  },
  {
   "cell_type": "code",
   "execution_count": 127,
   "metadata": {},
   "outputs": [
    {
     "data": {
      "image/png": "[encoded data removed]",
      "text/plain": [
       "<Figure size 432x288 with 1 Axes>"
      ]
     },
     "metadata": {
      "needs_background": "light"
     },
     "output_type": "display_data"
    }
   ],
   "source": [
    "plot_distribution(174.2, 5/(27**0.5), 172.31, 176.09)"
   ]
  },
  {
   "cell_type": "code",
   "execution_count": 1,
   "metadata": {},
   "outputs": [],
   "source": [
    "import numpy as np\n",
    "import pandas as pd\n",
    "import matplotlib.pyplot as plt\n",
    "from scipy.stats import norm"
   ]
  },
  {
   "cell_type": "code",
   "execution_count": 107,
   "metadata": {},
   "outputs": [],
   "source": [
    "def normal_distribution(x, mu, sigma):\n",
    "    return 1/(sigma * np.sqrt(2 * np.pi)) * np.exp( - (x - mu)**2 / (2 * sigma**2))"
   ]
  },
  {
   "cell_type": "code",
   "execution_count": 126,
   "metadata": {},
   "outputs": [],
   "source": [
    "def plot_distribution(mu, sigma, a=None, b=None, a2=None, b2=None):\n",
    "    \"\"\"Строит нормальное распределение,\n",
    "    если необходимо то закрашивает участок под кривой [a, b]\n",
    "    mu - математическое ожидание\n",
    "    sigma - среднеквадратичное отклонение\n",
    "    [a, b] - участок под кривой, площадь которого необходимо найти\"\"\"\n",
    "    \n",
    "    #координаты точек для построения кривой нормального распределения\n",
    "    x = [i/1000 for i in range(int((mu - 4*sigma)*1000), int((mu + 4*sigma)*1000))]\n",
    "    y = [normal_distribution(j, mu, sigma) for j in x]\n",
    "    \n",
    "    #координаты точек для прямой x = my\n",
    "    x_mu = [mu]*2\n",
    "    y_mu = min(y), max(y)\n",
    "    \n",
    "    #координаты для линий, которые ограничивают площадь под кривой [a, b]\n",
    "    if a and b:\n",
    "        x_ab = [i/1000 for i in range(int(a*1000), int((b)*1000))]\n",
    "        y_ab = [normal_distribution(j, mu, sigma) for j in x_ab]\n",
    "        #Дублируем крайние координаты по оси х, чтобы ограничить штрихуемую площадь вертикальными прямыми\n",
    "        x_ab = x_ab[:1] + x_ab + x_ab[-1:]\n",
    "        y_ab = [min(y),] + y_ab + [min(y),]\n",
    "        \n",
    "        #Координаты вертикальных прямых x=a и x=b\n",
    "        x_a = [a]*2\n",
    "        y_a = [min(y), normal_distribution(a, mu, sigma)]\n",
    "        \n",
    "        x_b = [b]*2\n",
    "        y_b = [min(y), normal_distribution(b, mu, sigma)]\n",
    "    \n",
    "    if a2 and b2:\n",
    "        x_ab2 = [i for i in range(a2, b2+1)]\n",
    "        y_ab2 = [normal_distribution(j, mu, sigma) for j in x_ab2]\n",
    "        #Дублируем крайние координаты по оси х, чтобы ограничить штрихуемую площадь вертикальными прямыми\n",
    "        x_ab2 = x_ab2[:1] + x_ab2 + x_ab2[-1:]\n",
    "        y_ab2 = [min(y),] + y_ab2 + [min(y),]\n",
    "        \n",
    "        #Координаты вертикальных прямых x=a и x=b\n",
    "        x_a2 = [a2]*2\n",
    "        y_a2 = [min(y), normal_distribution(a2, mu, sigma)]\n",
    "        \n",
    "        x_b2 = [b]*2\n",
    "        y_b2 = [min(y), normal_distribution(b2, mu, sigma)]\n",
    "        \n",
    "    plt.figure(figsize =(6, 4))\n",
    "    plt.plot(x, y, color = 'black')\n",
    "    plt.plot(x_mu, y_mu, color='black', linestyle = 'dashdot', label='M(X)')\n",
    "    #plt.title('Распределение роста взрослого населения города Х')\n",
    "    #plt.xlabel('Рост')\n",
    "    #plt.ylabel('Плотность вероятности')\n",
    "    \n",
    "    plt.grid()\n",
    "    if a and b:\n",
    "        plt.fill(x_ab, y_ab, 'lightgray')\n",
    "        plt.plot(x_a, y_a, color='black', linestyle = 'dashed', label='Границы интервала, a=0.95')\n",
    "        plt.plot(x_b, y_b, color='black', linestyle = 'dashed')\n",
    "    if a2 and b2:\n",
    "        plt.fill(x_ab2, y_ab2, 'lightgray')\n",
    "        plt.plot(x_a2, y_a2, color='black', linestyle = 'dashed')\n",
    "        plt.plot(x_b2, y_b2, color='black', linestyle = 'dashed')\n",
    "    plt.legend()\n",
    "    plt.show()"
   ]
  }
 ],
 "metadata": {
  "kernelspec": {
   "display_name": "Python 3",
   "language": "python",
   "name": "python3"
  },
  "language_info": {
   "codemirror_mode": {
    "name": "ipython",
    "version": 3
   },
   "file_extension": ".py",
   "mimetype": "text/x-python",
   "name": "python",
   "nbconvert_exporter": "python",
   "pygments_lexer": "ipython3",
   "version": "3.7.4"
  }
 },
 "nbformat": 4,
 "nbformat_minor": 2
}
