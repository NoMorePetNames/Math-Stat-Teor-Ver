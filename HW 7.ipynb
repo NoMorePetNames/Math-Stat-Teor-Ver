{
 "cells": [
  {
   "cell_type": "markdown",
   "metadata": {},
   "source": [
    "1. Даны значения величины заработной платы заемщиков банка (zp) и значения их поведенческого кредитного скоринга (ks):  \n",
    "zp = [35, 45, 190, 200, 40, 70, 54, 150, 120, 110], \n",
    "ks = [401, 574, 874, 919, 459, 739, 653, 902, 746, 832].  \n",
    "Используя математические операции, посчитать коэффициенты линейной регрессии, приняв за X заработную плату (то есть, zp - признак), а за y - значения скорингового балла (то есть, ks - целевая переменная).  \n",
    "Произвести расчет как с использованием intercept, так и без."
   ]
  },
  {
   "cell_type": "code",
   "execution_count": 1,
   "metadata": {},
   "outputs": [],
   "source": [
    "import numpy as np\n",
    "import pandas as pd\n",
    "import matplotlib.pyplot as plt\n",
    "from scipy.stats import norm"
   ]
  },
  {
   "cell_type": "code",
   "execution_count": 4,
   "metadata": {},
   "outputs": [
    {
     "data": {
      "text/html": [
       "<div>\n",
       "<style scoped>\n",
       "    .dataframe tbody tr th:only-of-type {\n",
       "        vertical-align: middle;\n",
       "    }\n",
       "\n",
       "    .dataframe tbody tr th {\n",
       "        vertical-align: top;\n",
       "    }\n",
       "\n",
       "    .dataframe thead th {\n",
       "        text-align: right;\n",
       "    }\n",
       "</style>\n",
       "<table border=\"1\" class=\"dataframe\">\n",
       "  <thead>\n",
       "    <tr style=\"text-align: right;\">\n",
       "      <th></th>\n",
       "      <th>zp</th>\n",
       "      <th>ks</th>\n",
       "    </tr>\n",
       "  </thead>\n",
       "  <tbody>\n",
       "    <tr>\n",
       "      <td>0</td>\n",
       "      <td>35</td>\n",
       "      <td>401</td>\n",
       "    </tr>\n",
       "    <tr>\n",
       "      <td>1</td>\n",
       "      <td>45</td>\n",
       "      <td>574</td>\n",
       "    </tr>\n",
       "    <tr>\n",
       "      <td>2</td>\n",
       "      <td>190</td>\n",
       "      <td>874</td>\n",
       "    </tr>\n",
       "    <tr>\n",
       "      <td>3</td>\n",
       "      <td>200</td>\n",
       "      <td>919</td>\n",
       "    </tr>\n",
       "    <tr>\n",
       "      <td>4</td>\n",
       "      <td>40</td>\n",
       "      <td>459</td>\n",
       "    </tr>\n",
       "    <tr>\n",
       "      <td>5</td>\n",
       "      <td>70</td>\n",
       "      <td>739</td>\n",
       "    </tr>\n",
       "    <tr>\n",
       "      <td>6</td>\n",
       "      <td>54</td>\n",
       "      <td>653</td>\n",
       "    </tr>\n",
       "    <tr>\n",
       "      <td>7</td>\n",
       "      <td>150</td>\n",
       "      <td>902</td>\n",
       "    </tr>\n",
       "    <tr>\n",
       "      <td>8</td>\n",
       "      <td>120</td>\n",
       "      <td>746</td>\n",
       "    </tr>\n",
       "    <tr>\n",
       "      <td>9</td>\n",
       "      <td>110</td>\n",
       "      <td>832</td>\n",
       "    </tr>\n",
       "  </tbody>\n",
       "</table>\n",
       "</div>"
      ],
      "text/plain": [
       "    zp   ks\n",
       "0   35  401\n",
       "1   45  574\n",
       "2  190  874\n",
       "3  200  919\n",
       "4   40  459\n",
       "5   70  739\n",
       "6   54  653\n",
       "7  150  902\n",
       "8  120  746\n",
       "9  110  832"
      ]
     },
     "execution_count": 4,
     "metadata": {},
     "output_type": "execute_result"
    }
   ],
   "source": [
    "#Оценим данные визуально\n",
    "zp = [35, 45, 190, 200, 40, 70, 54, 150, 120, 110]\n",
    "ks = [401, 574, 874, 919, 459, 739, 653, 902, 746, 832]\n",
    "df = pd.DataFrame({'zp':zp, 'ks':ks})\n",
    "df"
   ]
  },
  {
   "cell_type": "code",
   "execution_count": 133,
   "metadata": {},
   "outputs": [
    {
     "data": {
      "text/plain": [
       "[]"
      ]
     },
     "execution_count": 133,
     "metadata": {},
     "output_type": "execute_result"
    },
    {
     "data": {
      "image/png": "[encoded data removed]",
      "text/plain": [
       "<Figure size 432x288 with 1 Axes>"
      ]
     },
     "metadata": {
      "needs_background": "light"
     },
     "output_type": "display_data"
    }
   ],
   "source": [
    "plt.scatter(df.zp, df.ks, marker='o', color='red')\n",
    "plt.grid()\n",
    "plt.xlabel('Заработная плата')\n",
    "plt.ylabel('Скоринговый балл')\n",
    "plt.title('Зависимость величины кредитной оценки от заработной платы клиента')\n",
    "plt.plot()"
   ]
  },
  {
   "cell_type": "markdown",
   "metadata": {},
   "source": [
    "Глядя на граффик можно предположить, что значение кредитного скоринга зависит от величины заработной платы логарифмически, т.е.\n",
    "\n",
    "$$y = \\beta_0 + \\beta_1\\log_{\\beta_2}x, \\beta_3 > 1,$$  \n",
    "\n",
    "По условию задачи нам необходимо определить коэффициенты линейной регрессии, так что мы предполагаем что зависимость скоринговой оценки от заработной платы линейна, т.е.\n",
    "\n",
    "$$y = \\beta_0 + \\beta_{1}x, $$\n",
    "\n",
    "в случае, если $f(0) = 0,$ т.е. при расчете без итресепта:\n",
    "\n",
    "$$y = \\beta_{0}x.$$\n",
    "\n",
    "$$\\beta_0 = \\frac{\\sum\\limits_{i=1}^{n}x_{i}y_{i}}{\\sum\\limits_{i=1}^{n}x_{i}^2}$$\n",
    "\n",
    "В случае с интерсептом $\\beta_1$:\n",
    "\n",
    "$$\\beta_1 = \\frac{n\\sum\\limits_{i=1}^{n}x_{i}y_{i} - \\sum\\limits_{i=1}^{n}x_{i}\\sum\\limits_{i=1}^{n}y_{i}}{n\\sum\\limits_{i=1}^{n}x_{i}^2 - (\\sum\\limits_{i=1}^{n}x_{i})^2}$$"
   ]
  },
  {
   "cell_type": "code",
   "execution_count": 107,
   "metadata": {},
   "outputs": [
    {
     "data": {
      "text/plain": [
       "5.889820420132688"
      ]
     },
     "execution_count": 107,
     "metadata": {},
     "output_type": "execute_result"
    }
   ],
   "source": [
    "b0 = np.mean(df.zp * df.ks)/np.mean(df.zp**2) #Для случая без интерсепта\n",
    "b0"
   ]
  },
  {
   "cell_type": "code",
   "execution_count": 50,
   "metadata": {},
   "outputs": [],
   "source": [
    "#Случай с интерсептом\n",
    "def calculate_b_f1(x, y):\n",
    "    n = len(x)\n",
    "    return (n*np.sum(x * y) - np.sum(x)*np.sum(y))/(n*np.sum(x**2) - (np.sum(x))**2)"
   ]
  },
  {
   "cell_type": "markdown",
   "metadata": {},
   "source": [
    "Или $$\\beta_1 = \\frac{\\overline{yx} - \\overline{y} \\cdot {\\overline{x}}}{\\overline{x^2} - (\\overline{x})^2}$$"
   ]
  },
  {
   "cell_type": "code",
   "execution_count": 51,
   "metadata": {},
   "outputs": [],
   "source": [
    "#Случай с интерсептом (другая формула)\n",
    "def calculate_b_f2(x, y):\n",
    "    n = len(x)\n",
    "    return (np.mean(x * y) - np.mean(x) * np.mean(y))/(np.mean(x**2) - np.mean(x)**2)"
   ]
  },
  {
   "cell_type": "code",
   "execution_count": 52,
   "metadata": {},
   "outputs": [
    {
     "name": "stdout",
     "output_type": "stream",
     "text": [
      "2.62054 2.62054 True\n"
     ]
    }
   ],
   "source": [
    "#Здесь коэффиценты b1 и b2 - один и тот же коэффициент для случая с интерсептом, вычисленный для проверки разными формулами\n",
    "b1 = round(calculate_b_f1(df.zp, df.ks), 5)\n",
    "b2 = round(calculate_b_f2(df.zp, df.ks), 5)\n",
    "print(b1, b2, b1==b2)"
   ]
  },
  {
   "cell_type": "markdown",
   "metadata": {},
   "source": [
    "Коэффициент $\\beta_0 = 5.88982$ для случая без интерсепта  \n",
    "Коэффициент $\\beta_1 = 2.62054$ для случая с интерсептом\n",
    "\n",
    "Тогда коэффициент  $\\beta_0 = \\overline{y} - \\beta_1\\overline{x}$  для случая с интерсептом:"
   ]
  },
  {
   "cell_type": "code",
   "execution_count": 53,
   "metadata": {},
   "outputs": [
    {
     "name": "stdout",
     "output_type": "stream",
     "text": [
      "444.17724\n"
     ]
    }
   ],
   "source": [
    "a = np.mean(df.ks) - b1*np.mean(df.zp)\n",
    "print(round(a, 5))"
   ]
  },
  {
   "cell_type": "markdown",
   "metadata": {},
   "source": [
    "Значения коэффициента линейной регрессии для случая без интерсепта:  \n",
    "$\\beta_0 = 5.89$  \n",
    "Значения коэффициентов линейной регрессии для случая с интерсептом:  \n",
    "$\\beta_0 = 444.18$  \n",
    "$\\beta_1 = 2.62$  \n",
    "\n",
    "Уравнение линейной регрессии для случая без интерсепта:\n",
    "$$\\hat{y} = \\beta_{0}x$$\n",
    "$$\\hat{y} = 5.89x$$  \n",
    "\n",
    "Уравнение линейной регрессии для случая с интерсептом:\n",
    "$$\\hat{y} = \\beta_0 + \\beta_{1}x$$\n",
    "$$\\hat{y} = 444.18 + 2.62x$$  \n"
   ]
  },
  {
   "cell_type": "markdown",
   "metadata": {},
   "source": [
    "Проверим полученные значения с помощью матричных вычислений:\n",
    "$$\\hat{B} = (X^T \\cdot X)^{-1}\\cdot X^T\\cdot Y$$"
   ]
  },
  {
   "cell_type": "code",
   "execution_count": 85,
   "metadata": {},
   "outputs": [],
   "source": [
    "X1 = np.array(df.zp).reshape(len(df), 1) #для случая без интерсепта\n",
    "X2 = np.hstack([np.ones((len(df), 1)), X1]) #для случая с интерсептом\n",
    "Y = np.array(df.ks).reshape(len(df), 1)"
   ]
  },
  {
   "cell_type": "code",
   "execution_count": 106,
   "metadata": {},
   "outputs": [
    {
     "data": {
      "text/plain": [
       "array([[5.88982042]])"
      ]
     },
     "execution_count": 106,
     "metadata": {},
     "output_type": "execute_result"
    }
   ],
   "source": [
    "B = np.linalg.inv(X1.T@X1)@X1.T@Y\n",
    "B\n",
    "#значения коэффициента для случая без интерсепта корректно"
   ]
  },
  {
   "cell_type": "code",
   "execution_count": 97,
   "metadata": {},
   "outputs": [
    {
     "data": {
      "text/plain": [
       "array([[444.17735732],\n",
       "       [  2.62053888]])"
      ]
     },
     "execution_count": 97,
     "metadata": {},
     "output_type": "execute_result"
    }
   ],
   "source": [
    "B = np.linalg.inv(X2.T@X2)@X2.T@Y\n",
    "B\n",
    "#значения коэффициентов для случая c интерсептом корректны"
   ]
  },
  {
   "cell_type": "code",
   "execution_count": 132,
   "metadata": {},
   "outputs": [
    {
     "data": {
      "image/png": "[encoded data removed]",
      "text/plain": [
       "<Figure size 432x288 with 1 Axes>"
      ]
     },
     "metadata": {
      "needs_background": "light"
     },
     "output_type": "display_data"
    }
   ],
   "source": [
    "#Построим графики получившичся уравнений линейной регрессии\n",
    "\n",
    "x = df.zp\n",
    "y = df.ks\n",
    "a\n",
    "x1 = [np.min(df.zp), np.max(df.zp)]\n",
    "y1 = [i*b0 for i in x1]\n",
    "y2 = [a + j * b1 for j in x1]\n",
    "\n",
    "plt.scatter(df.zp, df.ks, marker='o', color='red')\n",
    "plt.grid()\n",
    "\n",
    "plt.xlabel('Заработная плата')\n",
    "plt.ylabel('Скоринговый балл')\n",
    "plt.title('Зависимость величины кредитной оценки от заработной платы клиента')\n",
    "plt.plot(x1, y1, color='black', linestyle='dotted', label='y=5.89x')\n",
    "plt.plot(x1, y2, color='black', linestyle='dashed', label='y=444.18+2.62x')\n",
    "plt.legend()\n",
    "plt.show()"
   ]
  },
  {
   "cell_type": "markdown",
   "metadata": {},
   "source": [
    "2. Посчитать коэффициент линейной регрессии при заработной плате (zp), используя градиентный спуск (без intercept)."
   ]
  },
  {
   "cell_type": "markdown",
   "metadata": {},
   "source": [
    "Корректность найденного коэффициента определяется из условия минимизации квадратичной ошибки, которая вычисляется по формуле:\n",
    "$$mse = \\frac{\\sum\\limits_{i=1}^{n}(\\hat y_{i} - y_{i})^2}{n}$$"
   ]
  },
  {
   "cell_type": "code",
   "execution_count": 147,
   "metadata": {},
   "outputs": [],
   "source": [
    "x = df.zp\n",
    "y = df.ks\n",
    "n = len(df)"
   ]
  },
  {
   "cell_type": "code",
   "execution_count": 149,
   "metadata": {},
   "outputs": [],
   "source": [
    "def calculate_min_square_error(b1, y=y, x=x, n=n):\n",
    "    return np.sum((x*b1-y)**2)/n"
   ]
  },
  {
   "cell_type": "code",
   "execution_count": 279,
   "metadata": {},
   "outputs": [],
   "source": [
    "def calculate_b_gradient_method(alpha_0, b1_0, n_iter):\n",
    "    b1 = b1_0\n",
    "    alpha = alpha_0\n",
    "    for i in range(n_iter):\n",
    "        b1 -= alpha*(2/n)*np.sum((b1*x-y)*x)\n",
    "        m_sq_e = calculate_min_square_error(b1)\n",
    "        if i%(n_iter/10) == 0:\n",
    "            print('Iteration №{}, b1={:.5f}, mse={:.2f}'.format(i, b1, m_sq_e))\n",
    "        \n",
    "        #Код ниже останавливает подбор, если mse начинает расти\n",
    "        #и печатает значения параметров для итерации на которой началось возрастание, и предыдущей\n",
    "        #Эта проверка замедляет расчет, но т.к. из условий задачи дан небольшой объем данных, то все работает корректно\n",
    "        if calculate_min_square_error(b1) > calculate_min_square_error(b1_0):\n",
    "            print('-'*50)\n",
    "            print('Средняя квадратичная ошибка увеличивается')\n",
    "            print('Iteration №{}, b1={:.5f}, mse={:.2f}'.format(i-1, b1_0, calculate_min_square_error(b1_0)))\n",
    "            print('Iteration №{}, b1={:.5f}, mse={:.2f}'.format(i, b1, m_sq_e))\n",
    "            print('-'*50)\n",
    "            print('mse(n-1)={:.12f}'.format(calculate_min_square_error(b1_0)))\n",
    "            print('  mse(n)={:.12f}'.format(calculate_min_square_error(b1)))\n",
    "            print('Измените начальное значение b1 и скорость обучения alpha, чтобы получить большую точность')\n",
    "            break\n",
    "        else: b1_0 = b1"
   ]
  },
  {
   "cell_type": "code",
   "execution_count": 280,
   "metadata": {},
   "outputs": [],
   "source": [
    "#Примем начальные значения для скорости обучения alpha и коэффициента линейной регрессии b1  \n",
    "alpha_0 = 1e-4\n",
    "b1_0 = 0\n",
    "n_iter = 100"
   ]
  },
  {
   "cell_type": "code",
   "execution_count": 281,
   "metadata": {},
   "outputs": [
    {
     "name": "stdout",
     "output_type": "stream",
     "text": [
      "Iteration №0, b1=16.22834, mse=1529028.57\n",
      "--------------------------------------------------\n",
      "Средняя квадратичная ошибка увеличивается\n",
      "Iteration №-1, b1=0.00000, mse=534426.90\n",
      "Iteration №0, b1=16.22834, mse=1529028.57\n",
      "--------------------------------------------------\n",
      "mse(n-1)=534426.900000000023\n",
      "  mse(n)=1529028.571743039880\n",
      "Измените начальное значение b1 и скорость обучения alpha, чтобы получить большую точность\n"
     ]
    }
   ],
   "source": [
    "calculate_b_gradient_method(alpha_0, b1_0, n_iter)"
   ]
  },
  {
   "cell_type": "code",
   "execution_count": 282,
   "metadata": {},
   "outputs": [
    {
     "name": "stdout",
     "output_type": "stream",
     "text": [
      "Iteration №0, b1=0.16228, mse=508453.82\n",
      "Iteration №100, b1=5.53943, mse=58208.27\n",
      "Iteration №200, b1=5.86838, mse=56523.19\n",
      "Iteration №300, b1=5.88851, mse=56516.88\n",
      "Iteration №400, b1=5.88974, mse=56516.86\n",
      "Iteration №500, b1=5.88982, mse=56516.86\n",
      "Iteration №600, b1=5.88982, mse=56516.86\n",
      "--------------------------------------------------\n",
      "Средняя квадратичная ошибка увеличивается\n",
      "Iteration №644, b1=5.88982, mse=56516.86\n",
      "Iteration №645, b1=5.88982, mse=56516.86\n",
      "--------------------------------------------------\n",
      "mse(n-1)=56516.858415719507\n",
      "  mse(n)=56516.858415719515\n",
      "Измените начальное значение b1 и скорость обучения alpha, чтобы получить большую точность\n"
     ]
    }
   ],
   "source": [
    "#Cкорость обучения слишком большая, изменим начальные параметры\n",
    "alpha_0 = 1e-6\n",
    "b1_0 = 0\n",
    "n_iter = 1000\n",
    "calculate_b_gradient_method(alpha_0, b1_0, n_iter)"
   ]
  },
  {
   "cell_type": "markdown",
   "metadata": {},
   "source": [
    "#### Значение коэффициента линейной регрессии для случая без интерсепта, определенное с помощью метода градиентного спуска совпало с ранее полученным занчением:  \n",
    "$\\beta_0 = 5.89$  "
   ]
  },
  {
   "cell_type": "markdown",
   "metadata": {},
   "source": [
    "3. В каких случаях для вычисления доверительных интервалов и проверки статистических гипотез используется таблица значений функции Лапласа, а в каких - таблица критических точек распределения Стьюдента?"
   ]
  },
  {
   "cell_type": "markdown",
   "metadata": {},
   "source": [
    "В общем случае для нахождения границ доверительного интервала следует использовать формулу:  \n",
    "$$ \\overline{X} \\pm K_r\\frac{\\sigma}{\\sqrt{n}}$$\n",
    "\n",
    "При этом, если нам не известна величина $\\sigma_{г.с.}$ или $D = \\sigma_{г.с.}^2$ - т.е. не известна оценка стандартного отклонения для генеральной совокупности, но имеются данные анализируемой величины по выборке, то для расчета следует определить несмещенную оценку стандартного отклонения по данным из выборки, а в качестве $K_r$ использовать t-критерий Стьюдента.\n",
    "При этом критерий следует принимать для величин $\\alpha/2$ (для оценки двустороннего доверительного интервала) и колличества степеней свободы n-1, где n - размер выборки:\n",
    "\n",
    "$$ \\overline{X} \\pm t_{\\alpha/2}\\frac{\\sigma}{\\sqrt{n}}$$\n",
    "\n",
    "Если же величины $\\sigma_{г.с.}$ или $D = \\sigma_{г.с.}^2$ известны, то в расчет принимаются известные по условию задачи величины, а критерий $K_r$ определяется по таблице значений функции Лапласа, тогда формула для определения границ доверительного интервала будет иметь вид:  \n",
    "\n",
    "$$ \\overline{X} \\pm z_{\\alpha/2}\\frac{\\sigma}{\\sqrt{n}}$$\n",
    "\n",
    "Аналогичным образом при проверке статистистических гипотез, для нахождения значения критерия с заранее установленным уровнем значимости ($\\alpha = 0.01, 0.05, 0.1$) следует принимать $t_{\\alpha/2}$ (для оценки с 2х сторон) или $t_{\\alpha}$ (при односторонней оценке), если не известны величины $\\sigma_{г.с.}$ или $D = \\sigma_{г.с.}^2$. Если же эти величины известны, то в качестве критерия следует принять величину $z_{\\alpha/2}$ или $z_{\\alpha}$ (для оценки с двух или с одной стороны соответственно).  "
   ]
  },
  {
   "cell_type": "markdown",
   "metadata": {},
   "source": [
    "*4. Произвести вычисления как в пункте 2, но с вычислением intercept.  \n",
    "Учесть, что изменение коэффициентов должно производиться на каждом шаге одновременно  \n",
    "(то есть изменение одного коэффициента не должно влиять на изменение другого во время одной итерации)."
   ]
  },
  {
   "cell_type": "code",
   "execution_count": 285,
   "metadata": {},
   "outputs": [],
   "source": [
    "#Внесем интерсепт в расчет mse\n",
    "def calculate_min_square_error_intercept(b0, b1, y=y, x=x, n=n):\n",
    "    return np.sum((b0 + x*b1-y)**2)/n"
   ]
  },
  {
   "cell_type": "code",
   "execution_count": 334,
   "metadata": {},
   "outputs": [],
   "source": [
    "#Изменим функцию подбора коэффициентов линейной регрессии градиентным спуском\n",
    "#для случая с интерсептом\n",
    "\n",
    "def calculate_b_gradient_method_intercept(alpha_0, b0_0, b1_0, n_iter):\n",
    "    b0 = b0_0\n",
    "    b1 = b1_0\n",
    "    alpha = alpha_0\n",
    "    for i in range(n_iter):\n",
    "        #добавим значение интерсепта в расчет приращения коэффициентов\n",
    "        #учитываем при этом, что величины b1 при расчете b0 и b0 при расчете b1 должны браться из предыдущей итерации\n",
    "        b0 -= alpha*(2/n)*np.sum((b0 + b1_0*x)-y) \n",
    "        b1 -= alpha*(2/n)*np.sum(((b0_0 + b1*x)-y)*x) #учитываем при этом, что величины\n",
    "        m_sq_e = calculate_min_square_error_intercept(b0, b1)\n",
    "        if i%(n_iter/10) == 0:\n",
    "            print('Iteration №{}, b0={:.5f}, b1={:.5f}, mse={:.2f}'.format(i, b0, b1, m_sq_e))\n",
    "        \n",
    "        #Код ниже останавливает подбор, если mse начинает расти\n",
    "        #и печатает значения параметров для итерации на которой началось возрастание, и предыдущей\n",
    "        #Эта проверка замедляет расчет, но т.к. из условий задачи дан небольшой объем данных, то все работает корректно\n",
    "        if calculate_min_square_error_intercept(b0, b1) > calculate_min_square_error_intercept(b0_0, b1_0):\n",
    "            print('-'*50)\n",
    "            print('Средняя квадратичная ошибка увеличивается')\n",
    "            print('Iteration №{}, b0={:.5f}, b1={:.5f}, mse={:.2f}'.format(i-1, b0_0, b1_0, calculate_min_square_error_intercept(b0_0, b1_0)))\n",
    "            print('Iteration №{}, b0={:.5f}, b1={:.5f}, mse={:.2f}'.format(i, b0, b1, m_sq_e))\n",
    "            print('-'*50)\n",
    "            print('mse(n-1)={:.12f}'.format(calculate_min_square_error_intercept(b0_0, b1_0)))\n",
    "            print('  mse(n)={:.12f}'.format(calculate_min_square_error_intercept(b0, b1)))\n",
    "            print('Измените начальное значение b1 и скорость обучения alpha, чтобы получить большую точность')\n",
    "            break\n",
    "        else: \n",
    "            b0_0 = b0 #Сохраняем значения из предыдущей итерации для независимого изменения переменных\n",
    "            b1_0 = b1"
   ]
  },
  {
   "cell_type": "code",
   "execution_count": 335,
   "metadata": {},
   "outputs": [
    {
     "name": "stdout",
     "output_type": "stream",
     "text": [
      "Iteration №0, b0=0.14198, b1=16.22834, mse=1529294.28\n",
      "--------------------------------------------------\n",
      "Средняя квадратичная ошибка увеличивается\n",
      "Iteration №-1, b0=0.00000, b1=0.00000, mse=534426.90\n",
      "Iteration №0, b0=0.14198, b1=16.22834, mse=1529294.28\n",
      "--------------------------------------------------\n",
      "mse(n-1)=534426.900000000023\n",
      "  mse(n)=1529294.280119196977\n",
      "Измените начальное значение b1 и скорость обучения alpha, чтобы получить большую точность\n"
     ]
    }
   ],
   "source": [
    "alpha_0 = 1e-4\n",
    "b0_0 = 0\n",
    "b1_0 = 0\n",
    "n_iter = 1000\n",
    "calculate_b_gradient_method_intercept(alpha_0, b0_0, b1_0, n_iter)"
   ]
  },
  {
   "cell_type": "code",
   "execution_count": 336,
   "metadata": {},
   "outputs": [
    {
     "name": "stdout",
     "output_type": "stream",
     "text": [
      "Iteration №0, b0=0.01420, b1=1.62283, mse=307334.31\n",
      "Iteration №100, b0=0.27086, b1=5.88789, mse=56455.84\n",
      "Iteration №200, b0=0.49599, b1=5.88623, mse=56405.15\n",
      "Iteration №300, b0=0.72102, b1=5.88457, mse=56354.51\n",
      "Iteration №400, b0=0.94593, b1=5.88292, mse=56303.93\n",
      "Iteration №500, b0=1.17072, b1=5.88126, mse=56253.39\n",
      "Iteration №600, b0=1.39541, b1=5.87961, mse=56202.91\n",
      "Iteration №700, b0=1.61997, b1=5.87796, mse=56152.47\n",
      "Iteration №800, b0=1.84443, b1=5.87630, mse=56102.09\n",
      "Iteration №900, b0=2.06877, b1=5.87465, mse=56051.76\n"
     ]
    }
   ],
   "source": [
    "#Изменим скорость обучения и колличество итераций\n",
    "alpha_0 = 1e-5\n",
    "b0_0 = 0\n",
    "b1_0 = 0\n",
    "n_iter = 1000\n",
    "calculate_b_gradient_method_intercept(alpha_0, b0_0, b1_0, n_iter)"
   ]
  },
  {
   "cell_type": "code",
   "execution_count": 337,
   "metadata": {},
   "outputs": [
    {
     "name": "stdout",
     "output_type": "stream",
     "text": [
      "Iteration №0, b0=2.08001, b1=5.87458, mse=56049.24\n",
      "Iteration №100, b0=3.19999, b1=5.86633, mse=55798.36\n",
      "Iteration №200, b0=4.31713, b1=5.85810, mse=55548.74\n",
      "Iteration №300, b0=5.43144, b1=5.84990, mse=55300.40\n",
      "Iteration №400, b0=6.54293, b1=5.84172, mse=55053.30\n",
      "Iteration №500, b0=7.65160, b1=5.83356, mse=54807.46\n",
      "Iteration №600, b0=8.75747, b1=5.82542, mse=54562.87\n",
      "Iteration №700, b0=9.86053, b1=5.81730, mse=54319.51\n",
      "Iteration №800, b0=10.96080, b1=5.80920, mse=54077.38\n",
      "Iteration №900, b0=12.05828, b1=5.80113, mse=53836.48\n"
     ]
    }
   ],
   "source": [
    "#Слишком медленная скорость обчучения и недостаточное колличество итераций,\n",
    "#снова изменим параметры модели,\n",
    "#используем при этом начальные значения коэффициентов, полученные предыдущей моделью\n",
    "alpha_0 = 5e-5\n",
    "b0_0 = 2.0688\n",
    "b1_0 = 5.87464\n",
    "n_iter = 1000\n",
    "calculate_b_gradient_method_intercept(alpha_0, b0_0, b1_0, n_iter)"
   ]
  },
  {
   "cell_type": "code",
   "execution_count": 338,
   "metadata": {},
   "outputs": [],
   "source": [
    "#Вероятно проблемы со скоростью нахождения коэффициентов вызваны разным порядком коэффициентов b1 и b0,\n",
    "#Изменим модель так, чтобы скорость обучения для коэффициента b0 стала больше в 10 раз\n",
    "\n",
    "def calculate_b_gradient_method_intercept_v2(alpha_0, b0_0, b1_0, n_iter):\n",
    "    b0 = b0_0\n",
    "    b1 = b1_0\n",
    "    alpha = alpha_0\n",
    "    for i in range(n_iter):\n",
    "        b0 -= alpha*(2/n)*np.sum((b0 + b1_0*x)-y)*1000 #Скорость обучения для b0 увеличина здесь \n",
    "        b1 -= alpha*(2/n)*np.sum(((b0_0 + b1*x)-y)*x)\n",
    "        m_sq_e = calculate_min_square_error_intercept(b0, b1)\n",
    "        if i%(n_iter/10) == 0:\n",
    "            print('Iteration №{}, b0={:.5f}, b1={:.5f}, mse={:.2f}'.format(i, b0, b1, m_sq_e))\n",
    "        \n",
    "        if calculate_min_square_error_intercept(b0, b1) > calculate_min_square_error_intercept(b0_0, b1_0):\n",
    "            print('-'*50)\n",
    "            print('Средняя квадратичная ошибка увеличивается')\n",
    "            print('Iteration №{}, b0={:.5f}, b1={:.5f}, mse={:.2f}'.format(i-1, b0_0, b1_0, calculate_min_square_error_intercept(b0_0, b1_0)))\n",
    "            print('Iteration №{}, b0={:.5f}, b1={:.5f}, mse={:.2f}'.format(i, b0, b1, m_sq_e))\n",
    "            print('-'*50)\n",
    "            print('mse(n-1)={:.12f}'.format(calculate_min_square_error_intercept(b0_0, b1_0)))\n",
    "            print('  mse(n)={:.12f}'.format(calculate_min_square_error_intercept(b0, b1)))\n",
    "            print('Измените начальное значение b1 и скорость обучения alpha, чтобы получить большую точность')\n",
    "            break\n",
    "        else: \n",
    "            b0_0 = b0\n",
    "            b1_0 = b1\n"
   ]
  },
  {
   "cell_type": "code",
   "execution_count": 339,
   "metadata": {},
   "outputs": [
    {
     "name": "stdout",
     "output_type": "stream",
     "text": [
      "Iteration №0, b0=13.28307, b1=5.87458, mse=53662.17\n",
      "Iteration №100, b0=406.35775, b1=2.90385, mse=6833.57\n",
      "Iteration №200, b0=440.85936, b1=2.64539, mse=6473.21\n",
      "Iteration №300, b0=443.88626, b1=2.62272, mse=6470.44\n",
      "Iteration №400, b0=444.15182, b1=2.62073, mse=6470.41\n",
      "Iteration №500, b0=444.17512, b1=2.62056, mse=6470.41\n",
      "Iteration №600, b0=444.17716, b1=2.62054, mse=6470.41\n",
      "Iteration №700, b0=444.17734, b1=2.62054, mse=6470.41\n",
      "--------------------------------------------------\n",
      "Средняя квадратичная ошибка увеличивается\n",
      "Iteration №705, b0=444.17734, b1=2.62054, mse=6470.41\n",
      "Iteration №706, b0=444.17734, b1=2.62054, mse=6470.41\n",
      "--------------------------------------------------\n",
      "mse(n-1)=6470.414201176717\n",
      "  mse(n)=6470.414201176720\n",
      "Измените начальное значение b1 и скорость обучения alpha, чтобы получить большую точность\n"
     ]
    }
   ],
   "source": [
    "#Используем те же значения параметров что и на прошлом шаге, но скорость обучения для параметра b0 увеличена в 1000 раз\n",
    "#Так вообще можно?\n",
    "alpha_0 = 5e-5\n",
    "b0_0 = 2.0688\n",
    "b1_0 = 5.87464\n",
    "n_iter = 1000 #колличество итераций тоже увеличим\n",
    "calculate_b_gradient_method_intercept_v2(alpha_0, b0_0, b1_0, n_iter)"
   ]
  },
  {
   "cell_type": "code",
   "execution_count": 340,
   "metadata": {},
   "outputs": [
    {
     "name": "stdout",
     "output_type": "stream",
     "text": [
      "Iteration №0, b0=444.17734, b1=2.62054, mse=6470.41\n",
      "--------------------------------------------------\n",
      "Средняя квадратичная ошибка увеличивается\n",
      "Iteration №6, b0=444.17734, b1=2.62054, mse=6470.41\n",
      "Iteration №7, b0=444.17734, b1=2.62054, mse=6470.41\n",
      "--------------------------------------------------\n",
      "mse(n-1)=6470.414201176733\n",
      "  mse(n)=6470.414201176734\n",
      "Измените начальное значение b1 и скорость обучения alpha, чтобы получить большую точность\n"
     ]
    }
   ],
   "source": [
    "#Cнова вернемся к модели с одинаковой скоростью обучения,\n",
    "#Но примем начальные приближения полученные на предыдущем шаге\n",
    "alpha_0 = 5e-5\n",
    "b0_0 = 444.17734\n",
    "b1_0 = 2.62054\n",
    "n_iter = 1000 #колличество итераций тоже увеличим\n",
    "calculate_b_gradient_method_intercept(alpha_0, b0_0, b1_0, n_iter)"
   ]
  },
  {
   "cell_type": "markdown",
   "metadata": {},
   "source": [
    "Значения коэффициентов линейной регрессии для случая с интерсептом совпали с ранее полученными значениями:  \n",
    "$\\beta_0 = 444.18$  \n",
    "$\\beta_1 = 2.62$"
   ]
  }
 ],
 "metadata": {
  "kernelspec": {
   "display_name": "Python 3",
   "language": "python",
   "name": "python3"
  },
  "language_info": {
   "codemirror_mode": {
    "name": "ipython",
    "version": 3
   },
   "file_extension": ".py",
   "mimetype": "text/x-python",
   "name": "python",
   "nbconvert_exporter": "python",
   "pygments_lexer": "ipython3",
   "version": "3.7.4"
  }
 },
 "nbformat": 4,
 "nbformat_minor": 2
}
