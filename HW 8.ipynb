{
 "cells": [
  {
   "cell_type": "markdown",
   "metadata": {},
   "source": [
    "Провести дисперсионный анализ для определения того, есть ли различия среднего роста среди взрослых футболистов, хоккеистов и штангистов. Даны значения роста в трех группах случайно выбранных спортсменов: \n",
    "\n",
    "Футболисты: 173, 175, 180, 178, 177, 185, 183, 182.   \n",
    "Хоккеисты: 177, 179, 180, 188, 177, 172, 171, 184, 180.   \n",
    "Штангисты: 172, 173, 169, 177, 166, 180, 178, 177, 172, 166, 170.  "
   ]
  },
  {
   "cell_type": "code",
   "execution_count": 2,
   "metadata": {},
   "outputs": [],
   "source": [
    "import numpy as np\n",
    "import pandas as pd\n",
    "from scipy import stats"
   ]
  },
  {
   "cell_type": "code",
   "execution_count": 19,
   "metadata": {},
   "outputs": [],
   "source": [
    "fb = np.array([173, 175, 180, 178, 177, 185, 183, 182])\n",
    "hc = np.array([177, 179, 180, 188, 177, 172, 171, 184, 180])\n",
    "sh = np.array([172, 173, 169, 177, 166, 180, 178, 177, 172, 166, 170])\n",
    "\n",
    "n_fb = len(fb)\n",
    "n_hc = len(hc)\n",
    "n_sh = len(sh)"
   ]
  },
  {
   "cell_type": "markdown",
   "metadata": {},
   "source": [
    "Определим сначала средние значения переменной по видам спорта:\n",
    "\n",
    "$$\\overline{y}_{i} = \\frac{1}{n_i}\\sum\\limits_{j=1}^{n_i}y_{ij}$$"
   ]
  },
  {
   "cell_type": "code",
   "execution_count": 17,
   "metadata": {},
   "outputs": [
    {
     "name": "stdout",
     "output_type": "stream",
     "text": [
      "Футболтсты 179.12\n",
      "Хоккеисты  178.67\n",
      "Штангисты  172.73\n"
     ]
    }
   ],
   "source": [
    "print('Футболтсты {:.2f}'.format(fb.mean()))\n",
    "print('Хоккеисты  {:.2f}'.format(hc.mean()))\n",
    "print('Штангисты  {:.2f}'.format(sh.mean()))"
   ]
  },
  {
   "cell_type": "markdown",
   "metadata": {},
   "source": [
    "Рост спортсменов отличается, установим статистичекую значимость этого различия.\n",
    "\n",
    "Для этого определим среднее значение по всем гурппам:\n",
    "\n",
    "$$\\overline{Y} = \\frac{1}{n}\\sum\\limits_{i=1}^{k}\\sum\\limits_{j=1}^{n_i}y_{ij} = \\frac{1}{n}\\sum\\limits_{i=1}^{k}\\overline{y}_{i}n_{i}$$"
   ]
  },
  {
   "cell_type": "code",
   "execution_count": 31,
   "metadata": {},
   "outputs": [
    {
     "name": "stdout",
     "output_type": "stream",
     "text": [
      "Средняя величина по всем спортсменам 176.46\n"
     ]
    }
   ],
   "source": [
    "y_all = np.concatenate([fb, hc, sh])\n",
    "all_mean = y_all.mean()\n",
    "print('Средняя величина по всем спортсменам {:.2f}'.format(all_mean))"
   ]
  },
  {
   "cell_type": "markdown",
   "metadata": {},
   "source": [
    "Вычислим сумму квадратов отклонений от общего среднего\n",
    "\n",
    "$$S^2 = \\sum\\limits_{i=1}^{k}\\sum\\limits_{j=1}^{n_i}({y}_{ij} - \\overline{Y})^2$$"
   ]
  },
  {
   "cell_type": "code",
   "execution_count": 32,
   "metadata": {},
   "outputs": [
    {
     "data": {
      "text/plain": [
       "830.9642857142854"
      ]
     },
     "execution_count": 32,
     "metadata": {},
     "output_type": "execute_result"
    }
   ],
   "source": [
    "S2 = np.sum((y_all - all_mean)**2)\n",
    "S2"
   ]
  },
  {
   "cell_type": "markdown",
   "metadata": {},
   "source": [
    "Вычислим сумму квадратов отклонений среднегрупповых от общего среднего\n",
    "\n",
    "$$S_F^2 = \\sum\\limits_{i=1}^{k}(\\overline{y}_i - \\overline{Y})^2n_i$$"
   ]
  },
  {
   "cell_type": "code",
   "execution_count": 33,
   "metadata": {},
   "outputs": [
    {
     "data": {
      "text/plain": [
       "253.9074675324678"
      ]
     },
     "execution_count": 33,
     "metadata": {},
     "output_type": "execute_result"
    }
   ],
   "source": [
    "S2_f = ((fb.mean() - all_mean)**2)*n_fb + ((hc.mean() - all_mean)**2)*n_hc + ((sh.mean() - all_mean)**2)*n_sh\n",
    "S2_f"
   ]
  },
  {
   "cell_type": "markdown",
   "metadata": {},
   "source": [
    "Вычислим остаточную сумму отклонений \n",
    "\n",
    "$$S_{ост}^{2} = \\sum\\limits_{i=1}^{k}\\sum\\limits_{j=1}^{n_i}(y_{ij} - \\overline{y}_i)^2$$"
   ]
  },
  {
   "cell_type": "code",
   "execution_count": 35,
   "metadata": {},
   "outputs": [
    {
     "data": {
      "text/plain": [
       "577.0568181818182"
      ]
     },
     "execution_count": 35,
     "metadata": {},
     "output_type": "execute_result"
    }
   ],
   "source": [
    "S2_res = np.sum((fb - fb.mean())**2) + np.sum((hc - hc.mean())**2) + np.sum((sh - sh.mean())**2)\n",
    "S2_res"
   ]
  },
  {
   "cell_type": "markdown",
   "metadata": {},
   "source": [
    "Проверим верность равенства $S^2 = S_F^2 + S_{ост}^2$:"
   ]
  },
  {
   "cell_type": "code",
   "execution_count": 37,
   "metadata": {},
   "outputs": [
    {
     "data": {
      "text/plain": [
       "True"
      ]
     },
     "execution_count": 37,
     "metadata": {},
     "output_type": "execute_result"
    }
   ],
   "source": [
    "round(S2, 2) == round(S2_f + S2_res, 2)"
   ]
  },
  {
   "cell_type": "markdown",
   "metadata": {},
   "source": [
    "Вычислим общую:\n",
    "    \n",
    "$$\\sigma_{общ}^{2} = \\frac{S^2}{n - 1} = \\frac{1}{n-1}\\sum\\limits_{i=1}^{k}\\sum\\limits_{j=1}^{n_i}(y_{ij} - \\overline{Y})^2$$\n",
    "\n",
    "факторную:\n",
    "\n",
    "$$\\sigma_{F}^{2} = \\frac{S_{F}^{2}}{k-1} = \\frac{1}{k-1}\\sum\\limits_{i=1}^{k}(\\overline{y}_i - \\overline{Y})^{2}n_i$$\n",
    "\n",
    "и остаточную дисперсию:\n",
    "\n",
    "$$\\sigma_{ост}^{2} = \\frac{S_{ост}^{2}}{n - k} = \\frac{1}{n - k}\\sum\\limits_{i=1}^{k}\\sum\\limits_{j=1}^{n_i}(y_{ij} - \\overline{y}_i)^2$$"
   ]
  },
  {
   "cell_type": "code",
   "execution_count": 39,
   "metadata": {},
   "outputs": [
    {
     "name": "stdout",
     "output_type": "stream",
     "text": [
      "sigma2_general = 29.68\n",
      "sigma2_f       = 126.95\n",
      "sigma2_res     = 23.08\n"
     ]
    }
   ],
   "source": [
    "sigma2_general = S2/(n_fb + n_hc + n_sh)\n",
    "sigma2_f = S2_f/(3-1)\n",
    "sigma2_res = S2_res/(n_fb + n_hc + n_sh - 3)\n",
    "\n",
    "print('sigma2_general = {:.2f}'.format(sigma2_general))\n",
    "print('sigma2_f       = {:.2f}'.format(sigma2_f))\n",
    "print('sigma2_res     = {:.2f}'.format(sigma2_res))"
   ]
  },
  {
   "cell_type": "markdown",
   "metadata": {},
   "source": [
    "Вычислим наблюдаемое значение критерия Фишера\n",
    "\n",
    "$$F_H = \\frac{\\sigma_{F}^{2}}{\\sigma_{ост}^{2}}$$"
   ]
  },
  {
   "cell_type": "code",
   "execution_count": 40,
   "metadata": {},
   "outputs": [
    {
     "data": {
      "text/plain": [
       "5.500053450812598"
      ]
     },
     "execution_count": 40,
     "metadata": {},
     "output_type": "execute_result"
    }
   ],
   "source": [
    "F_h = sigma2_f/sigma2_res\n",
    "F_h"
   ]
  },
  {
   "cell_type": "markdown",
   "metadata": {},
   "source": [
    "Зададим уровень значимости $\\alpha = 0.05$,\n",
    "\n",
    "k = 3,  \n",
    "n = 28\n",
    "\n",
    "Тогда табличное значение F для заданного уровня значимости и колличества степеней свободы:  \n",
    "\n",
    "$df_{межд} = k - 1 = 3 - 1 = 2$,  \n",
    "$df_{внутр} = n - k = 28 - 3 = 25$,\n",
    "\n",
    "составит $F_{крит} = 3.38$\n",
    "\n",
    "$$F_H > F_{крит}$$\n",
    "$$5.5 > 3.38$$ \n",
    "\n",
    "Следовательно различие роста спортсменов в трёх группах значимы"
   ]
  },
  {
   "cell_type": "code",
   "execution_count": 43,
   "metadata": {},
   "outputs": [
    {
     "data": {
      "text/plain": [
       "F_onewayResult(statistic=5.500053450812596, pvalue=0.010482206918698694)"
      ]
     },
     "execution_count": 43,
     "metadata": {},
     "output_type": "execute_result"
    }
   ],
   "source": [
    "#Проверим полученное значение с помощью функции модуля scipy\n",
    "stats.f_oneway(fb, hc, sh)"
   ]
  },
  {
   "cell_type": "markdown",
   "metadata": {},
   "source": [
    "#### Результаты расчета совпадают с ранее вычисленными значениями"
   ]
  }
 ],
 "metadata": {
  "kernelspec": {
   "display_name": "Python 3",
   "language": "python",
   "name": "python3"
  },
  "language_info": {
   "codemirror_mode": {
    "name": "ipython",
    "version": 3
   },
   "file_extension": ".py",
   "mimetype": "text/x-python",
   "name": "python",
   "nbconvert_exporter": "python",
   "pygments_lexer": "ipython3",
   "version": "3.7.4"
  }
 },
 "nbformat": 4,
 "nbformat_minor": 2
}
